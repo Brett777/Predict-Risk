{
 "cells": [
  {
   "cell_type": "markdown",
   "metadata": {},
   "source": [
    "# GPU Performance Test: H2O - XGBoost on GPU"
   ]
  },
  {
   "cell_type": "markdown",
   "metadata": {},
   "source": [
    "![GPU vs CPU](https://s18.postimg.org/ataodekvt/GPU_vs_CPU.jpg)"
   ]
  },
  {
   "cell_type": "markdown",
   "metadata": {},
   "source": [
    "## 1. Import the H2O Library and its XGBoost Estimator"
   ]
  },
  {
   "cell_type": "code",
   "execution_count": 1,
   "metadata": {},
   "outputs": [
    {
     "name": "stdout",
     "output_type": "stream",
     "text": [
      "[WARNING] H2O requires requests module of version 2.10 or newer. You have version 2.4.3.\n",
      "You can upgrade to the newest version of the module running from the command line\n",
      "    $ pip2 install --upgrade requests\n"
     ]
    }
   ],
   "source": [
    "import h2o\n",
    "from h2o.estimators.xgboost import H2OXGBoostEstimator"
   ]
  },
  {
   "cell_type": "markdown",
   "metadata": {},
   "source": [
    "## 2. Connect to a Running H2O instance or start a new one"
   ]
  },
  {
   "cell_type": "code",
   "execution_count": 2,
   "metadata": {},
   "outputs": [
    {
     "name": "stdout",
     "output_type": "stream",
     "text": [
      "Connecting to H2O server at http://35.196.57.28:54321... successful.\n"
     ]
    },
    {
     "data": {
      "text/html": [
       "<div style=\"overflow:auto\"><table style=\"width:50%\"><tr><td>H2O cluster uptime:</td>\n",
       "<td>4 mins 00 secs</td></tr>\n",
       "<tr><td>H2O cluster version:</td>\n",
       "<td>3.13.0.318</td></tr>\n",
       "<tr><td>H2O cluster version age:</td>\n",
       "<td>3 months and 27 days !!!</td></tr>\n",
       "<tr><td>H2O cluster name:</td>\n",
       "<td>olmsteadbrett</td></tr>\n",
       "<tr><td>H2O cluster total nodes:</td>\n",
       "<td>1</td></tr>\n",
       "<tr><td>H2O cluster free memory:</td>\n",
       "<td>1.614 Gb</td></tr>\n",
       "<tr><td>H2O cluster total cores:</td>\n",
       "<td>2</td></tr>\n",
       "<tr><td>H2O cluster allowed cores:</td>\n",
       "<td>2</td></tr>\n",
       "<tr><td>H2O cluster status:</td>\n",
       "<td>accepting new members, healthy</td></tr>\n",
       "<tr><td>H2O connection url:</td>\n",
       "<td>http://35.196.57.28:54321</td></tr>\n",
       "<tr><td>H2O connection proxy:</td>\n",
       "<td>None</td></tr>\n",
       "<tr><td>H2O internal security:</td>\n",
       "<td>False</td></tr>\n",
       "<tr><td>H2O API Extensions:</td>\n",
       "<td>XGBoost, water.api.RegisterResourceRoots, Core V3, Core V4, Algos, AutoML</td></tr>\n",
       "<tr><td>Python version:</td>\n",
       "<td>2.7.9 final</td></tr></table></div>"
      ],
      "text/plain": [
       "--------------------------  -------------------------------------------------------------------------\n",
       "H2O cluster uptime:         4 mins 00 secs\n",
       "H2O cluster version:        3.13.0.318\n",
       "H2O cluster version age:    3 months and 27 days !!!\n",
       "H2O cluster name:           olmsteadbrett\n",
       "H2O cluster total nodes:    1\n",
       "H2O cluster free memory:    1.614 Gb\n",
       "H2O cluster total cores:    2\n",
       "H2O cluster allowed cores:  2\n",
       "H2O cluster status:         accepting new members, healthy\n",
       "H2O connection url:         http://35.196.57.28:54321\n",
       "H2O connection proxy:\n",
       "H2O internal security:      False\n",
       "H2O API Extensions:         XGBoost, water.api.RegisterResourceRoots, Core V3, Core V4, Algos, AutoML\n",
       "Python version:             2.7.9 final\n",
       "--------------------------  -------------------------------------------------------------------------"
      ]
     },
     "metadata": {},
     "output_type": "display_data"
    },
    {
     "data": {
      "text/plain": [
       "<H2OConnection to http://35.196.57.28:54321, session _sid_879a>"
      ]
     },
     "execution_count": 2,
     "metadata": {},
     "output_type": "execute_result"
    }
   ],
   "source": [
    "h2o.connect(ip=\"35.196.57.28\")"
   ]
  },
  {
   "cell_type": "markdown",
   "metadata": {},
   "source": [
    "## 3. Load Some Data From an Amazon S3 Bucket"
   ]
  },
  {
   "cell_type": "code",
   "execution_count": 3,
   "metadata": {},
   "outputs": [
    {
     "name": "stdout",
     "output_type": "stream",
     "text": [
      "Parse progress: |█████████████████████████████████████████████████████████| 100%\n"
     ]
    }
   ],
   "source": [
    "# Import some data from Amazon S3\n",
    "h2oDF = h2o.import_file(\"https://s3-us-west-1.amazonaws.com/dsclouddata/LendingClubData/LoansGoodBad.csv\")\n",
    "\n",
    "# Stratified Split into Train/Test\n",
    "stratsplit = h2oDF[\"Bad_Loan\"].stratified_split(test_frac=0.3, seed=12349453)\n",
    "train = h2oDF[stratsplit==\"train\"]\n",
    "test = h2oDF[stratsplit==\"test\"]\n"
   ]
  },
  {
   "cell_type": "markdown",
   "metadata": {},
   "source": [
    "## 4. Specify the Response Column"
   ]
  },
  {
   "cell_type": "code",
   "execution_count": 4,
   "metadata": {},
   "outputs": [
    {
     "data": {
      "text/html": [
       "<table>\n",
       "<thead>\n",
       "<tr><th style=\"text-align: right;\">  RowID</th><th style=\"text-align: right;\">  Loan_Amount</th><th>Term     </th><th style=\"text-align: right;\">  Interest_Rate</th><th style=\"text-align: right;\">  Employment_Years</th><th>Home_Ownership  </th><th style=\"text-align: right;\">  Annual_Income</th><th>Verification_Status     </th><th>Loan_Purpose  </th><th>State  </th><th style=\"text-align: right;\">  Debt_to_Income</th><th style=\"text-align: right;\">  Delinquent_2yr</th><th style=\"text-align: right;\">  Revolving_Cr_Util</th><th style=\"text-align: right;\">  Total_Accounts</th><th>Bad_Loan  </th><th style=\"text-align: right;\">  Longest_Credit_Length</th></tr>\n",
       "</thead>\n",
       "<tbody>\n",
       "<tr><td style=\"text-align: right;\">      2</td><td style=\"text-align: right;\">         2500</td><td>60 months</td><td style=\"text-align: right;\">          15.27</td><td style=\"text-align: right;\">               0.5</td><td>RENT            </td><td style=\"text-align: right;\">          30000</td><td>VERIFIED - income source</td><td>car           </td><td>GA     </td><td style=\"text-align: right;\">            1   </td><td style=\"text-align: right;\">               0</td><td style=\"text-align: right;\">                9.4</td><td style=\"text-align: right;\">               4</td><td>BAD       </td><td style=\"text-align: right;\">                     12</td></tr>\n",
       "<tr><td style=\"text-align: right;\">      3</td><td style=\"text-align: right;\">         2400</td><td>36 months</td><td style=\"text-align: right;\">          15.96</td><td style=\"text-align: right;\">              10  </td><td>RENT            </td><td style=\"text-align: right;\">          12252</td><td>not verified            </td><td>small_business</td><td>IL     </td><td style=\"text-align: right;\">            8.72</td><td style=\"text-align: right;\">               0</td><td style=\"text-align: right;\">               98.5</td><td style=\"text-align: right;\">              10</td><td>GOOD      </td><td style=\"text-align: right;\">                     10</td></tr>\n",
       "<tr><td style=\"text-align: right;\">      4</td><td style=\"text-align: right;\">        10000</td><td>36 months</td><td style=\"text-align: right;\">          13.49</td><td style=\"text-align: right;\">              10  </td><td>RENT            </td><td style=\"text-align: right;\">          49200</td><td>VERIFIED - income source</td><td>other         </td><td>CA     </td><td style=\"text-align: right;\">           20   </td><td style=\"text-align: right;\">               0</td><td style=\"text-align: right;\">               21  </td><td style=\"text-align: right;\">              37</td><td>GOOD      </td><td style=\"text-align: right;\">                     15</td></tr>\n",
       "<tr><td style=\"text-align: right;\">      5</td><td style=\"text-align: right;\">         5000</td><td>36 months</td><td style=\"text-align: right;\">           7.9 </td><td style=\"text-align: right;\">               3  </td><td>RENT            </td><td style=\"text-align: right;\">          36000</td><td>VERIFIED - income source</td><td>wedding       </td><td>AZ     </td><td style=\"text-align: right;\">           11.2 </td><td style=\"text-align: right;\">               0</td><td style=\"text-align: right;\">               28.3</td><td style=\"text-align: right;\">              12</td><td>GOOD      </td><td style=\"text-align: right;\">                      7</td></tr>\n",
       "<tr><td style=\"text-align: right;\">      6</td><td style=\"text-align: right;\">         3000</td><td>36 months</td><td style=\"text-align: right;\">          18.64</td><td style=\"text-align: right;\">               9  </td><td>RENT            </td><td style=\"text-align: right;\">          48000</td><td>VERIFIED - income source</td><td>car           </td><td>CA     </td><td style=\"text-align: right;\">            5.35</td><td style=\"text-align: right;\">               0</td><td style=\"text-align: right;\">               87.5</td><td style=\"text-align: right;\">               4</td><td>GOOD      </td><td style=\"text-align: right;\">                      4</td></tr>\n",
       "</tbody>\n",
       "</table>"
      ]
     },
     "metadata": {},
     "output_type": "display_data"
    },
    {
     "data": {
      "text/plain": []
     },
     "execution_count": 4,
     "metadata": {},
     "output_type": "execute_result"
    }
   ],
   "source": [
    "# Identify predictors and response\n",
    "x = train.columns\n",
    "y = \"Bad_Loan\"\n",
    "x.remove(y)\n",
    "\n",
    "# For binary classification, response should be a factor\n",
    "train[y] = train[y].asfactor()\n",
    "test[y] = test[y].asfactor()\n",
    "train.head(5)"
   ]
  },
  {
   "cell_type": "markdown",
   "metadata": {},
   "source": [
    "## 5. Train an XGBoost Model using GPU"
   ]
  },
  {
   "cell_type": "code",
   "execution_count": 5,
   "metadata": {},
   "outputs": [
    {
     "name": "stdout",
     "output_type": "stream",
     "text": [
      "xgboost Model Build progress: |███████████████████████████████████████████| 100%\n",
      "Accuracy AUC: 0.86566930403\n",
      "CPU times: user 176 ms, sys: 28 ms, total: 204 ms\n",
      "Wall time: 15.8 s\n"
     ]
    }
   ],
   "source": [
    "%%time\n",
    "XGB_GPU = H2OXGBoostEstimator(model_id=\"XGB_on_GPU\", ntrees=350, max_depth=9, learn_rate=0.05, backend=\"gpu\", gpu_id=0)\n",
    "XGB_GPU.train(x=x, y=y, training_frame=train, validation_frame=test)\n",
    "print \"Accuracy AUC: \" + str(XGB_GPU.auc())"
   ]
  },
  {
   "cell_type": "markdown",
   "metadata": {},
   "source": [
    "## 6. Train an XGBoost Model using CPU"
   ]
  },
  {
   "cell_type": "code",
   "execution_count": 6,
   "metadata": {},
   "outputs": [
    {
     "name": "stdout",
     "output_type": "stream",
     "text": [
      "xgboost Model Build progress: |███████████████████████████████████████████| 100%\n",
      "Accuracy AUC: 0.85696688422\n",
      "CPU times: user 396 ms, sys: 44 ms, total: 440 ms\n",
      "Wall time: 2min 13s\n"
     ]
    }
   ],
   "source": [
    "%%time\n",
    "XGB_CPU = H2OXGBoostEstimator(model_id=\"XGB_on_CPU\", ntrees=350, max_depth=9, learn_rate=0.05, backend=\"cpu\")\n",
    "XGB_CPU.train(x=x, y=y, training_frame=train, validation_frame=test)\n",
    "print \"Accuracy AUC: \" + str(XGB_CPU.auc())"
   ]
  },
  {
   "cell_type": "markdown",
   "metadata": {},
   "source": [
    "## 7. Which Option is Faster? Which Option Costs Less?"
   ]
  },
  {
   "cell_type": "code",
   "execution_count": 19,
   "metadata": {},
   "outputs": [
    {
     "data": {
      "image/png": "[encoded data removed]",
      "text/plain": [
       "<matplotlib.figure.Figure at 0x7fddd5f42d90>"
      ]
     },
     "metadata": {},
     "output_type": "display_data"
    }
   ],
   "source": [
    "import matplotlib.pyplot as plt; plt.rcdefaults()\n",
    "import numpy as np\n",
    "import matplotlib.pyplot as plt\n",
    " \n",
    "objects = ('GPU', 'CPU')\n",
    "y_pos = np.arange(len(objects))\n",
    "seconds = [16,207]\n",
    " \n",
    "plt.barh(y_pos, seconds, align='center', alpha=0.5)\n",
    "plt.yticks(y_pos, objects)\n",
    "plt.xlabel('Seconds')\n",
    "plt.title('XGBoost Training Time in Seconds')\n",
    " \n",
    "plt.show()"
   ]
  },
  {
   "cell_type": "code",
   "execution_count": 21,
   "metadata": {},
   "outputs": [
    {
     "data": {
      "image/png": "[encoded data removed]",
      "text/plain": [
       "<matplotlib.figure.Figure at 0x7fddb7065450>"
      ]
     },
     "metadata": {},
     "output_type": "display_data"
    }
   ],
   "source": [
    "GPU_Cost = (0.9 / 3600) * 16\n",
    "CPU_Cost = (0.7 / 3600) * 221\n",
    "objects = ('GPU Cost', 'CPU Cost')\n",
    "y_pos = np.arange(len(objects))\n",
    "seconds = [GPU_Cost,CPU_Cost]\n",
    " \n",
    "plt.barh(y_pos, seconds, align='center', alpha=0.5)\n",
    "plt.yticks(y_pos, objects)\n",
    "plt.xlabel('Cents')\n",
    "plt.title('Cost in Cents')\n",
    " \n",
    "plt.show()"
   ]
  }
 ],
 "metadata": {
  "kernelspec": {
   "display_name": "Python 2",
   "language": "python",
   "name": "python2"
  },
  "language_info": {
   "codemirror_mode": {
    "name": "ipython",
    "version": 2
   },
   "file_extension": ".py",
   "mimetype": "text/x-python",
   "name": "python",
   "nbconvert_exporter": "python",
   "pygments_lexer": "ipython2",
   "version": "2.7.9"
  }
 },
 "nbformat": 4,
 "nbformat_minor": 2
}

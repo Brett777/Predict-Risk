{
 "cells": [
  {
   "cell_type": "markdown",
   "metadata": {},
   "source": [
    "# GPU Performance Characteristics: H2O and XGBoost on GPU"
   ]
  },
  {
   "cell_type": "markdown",
   "metadata": {},
   "source": [
    "![GPU vs CPU](https://s30.postimg.org/fflzue7tt/GPUvs_CPUBanner.jpg)"
   ]
  },
  {
   "cell_type": "code",
   "execution_count": 52,
   "metadata": {
    "collapsed": true
   },
   "outputs": [],
   "source": [
    "import h2o\n",
    "from h2o.estimators.xgboost import H2OXGBoostEstimator"
   ]
  },
  {
   "cell_type": "code",
   "execution_count": null,
   "metadata": {
    "collapsed": true
   },
   "outputs": [],
   "source": [
    "h2o.connect(ip=\"104.196.36.245\")"
   ]
  },
  {
   "cell_type": "code",
   "execution_count": null,
   "metadata": {
    "collapsed": true
   },
   "outputs": [],
   "source": [
    "# Import some data from Amazon S3\n",
    "h2oDF = h2o.import_file(\"https://s3-us-west-1.amazonaws.com/dsclouddata/LendingClubData/LoansGoodBad.csv\")\n",
    "\n",
    "# Stratified Split into Train/Test\n",
    "stratsplit = h2oDF[\"Bad_Loan\"].stratified_split(test_frac=0.3, seed=12349453)\n",
    "train = h2oDF[stratsplit==\"train\"]\n",
    "test = h2oDF[stratsplit==\"test\"]\n"
   ]
  },
  {
   "cell_type": "code",
   "execution_count": 55,
   "metadata": {
    "collapsed": true
   },
   "outputs": [],
   "source": [
    "# Identify predictors and response\n",
    "x = train.columns\n",
    "y = \"Bad_Loan\"\n",
    "x.remove(y)\n",
    "\n",
    "# For binary classification, response should be a factor\n",
    "train[y] = train[y].asfactor()\n",
    "test[y] = test[y].asfactor()"
   ]
  },
  {
   "cell_type": "code",
   "execution_count": null,
   "metadata": {
    "collapsed": true
   },
   "outputs": [],
   "source": [
    "train.head(5)"
   ]
  },
  {
   "cell_type": "code",
   "execution_count": 75,
   "metadata": {},
   "outputs": [
    {
     "name": "stdout",
     "output_type": "stream",
     "text": [
      "xgboost Model Build progress: |████████████████████████████████████████████| 100%\n",
      "0.896744250525\n",
      "CPU times: user 208 ms, sys: 32 ms, total: 240 ms\n",
      "Wall time: 19 s\n"
     ]
    }
   ],
   "source": [
    "%%time\n",
    "XGB_GPU = H2OXGBoostEstimator(model_id=\"XGB_on_GPU\", ntrees=500, max_depth=9, learn_rate=0.05, backend=\"gpu\", gpu_id=0)\n",
    "XGB_GPU.train(x=x, y=y, training_frame=train, validation_frame=test)\n",
    "print \"Accuracy AUC: \" + XGB.auc()"
   ]
  },
  {
   "cell_type": "code",
   "execution_count": 60,
   "metadata": {},
   "outputs": [
    {
     "name": "stdout",
     "output_type": "stream",
     "text": [
      "xgboost Model Build progress: |███████████████████████████████████████████| 100%\n",
      "CPU times: user 644 ms, sys: 68 ms, total: 712 ms\n",
      "Wall time: 3min 27s\n"
     ]
    }
   ],
   "source": [
    "%%time\n",
    "XGB_CPU = H2OXGBoostEstimator(model_id=\"XGB_on_CPU\", ntrees=500, max_depth=9, learn_rate=0.05, backend=\"cpu\")\n",
    "XGB_CPU.train(x=x, y=y, training_frame=train, validation_frame=test)\n",
    "print \"Accuracy AUC: \" + XGB_CPU.auc()"
   ]
  },
  {
   "cell_type": "code",
   "execution_count": null,
   "metadata": {
    "collapsed": true
   },
   "outputs": [],
   "source": [
    "import matplotlib.pyplot as plt; plt.rcdefaults()\n",
    "import numpy as np\n",
    "import matplotlib.pyplot as plt\n",
    " \n",
    "objects = ('GPU', 'CPU')\n",
    "y_pos = np.arange(len(objects))\n",
    "seconds = [19,207]\n",
    " \n",
    "plt.barh(y_pos, seconds, align='center', alpha=0.5)\n",
    "plt.yticks(y_pos, objects)\n",
    "plt.xlabel('Seconds')\n",
    "plt.title('Epic Machine Learning Battle')\n",
    " \n",
    "plt.show()"
   ]
  }
 ],
 "metadata": {
  "kernelspec": {
   "display_name": "Python 2",
   "language": "python",
   "name": "python2"
  },
  "language_info": {
   "codemirror_mode": {
    "name": "ipython",
    "version": 2
   },
   "file_extension": ".py",
   "mimetype": "text/x-python",
   "name": "python",
   "nbconvert_exporter": "python",
   "pygments_lexer": "ipython2",
   "version": "2.7.13"
  }
 },
 "nbformat": 4,
 "nbformat_minor": 2
}

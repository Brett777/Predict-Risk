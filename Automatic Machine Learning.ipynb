{
 "cells": [
  {
   "cell_type": "markdown",
   "metadata": {},
   "source": [
    "### Automatic Machine Learning\n",
    "\n",
    "This notebook ingests a dataset, and trains many machine learning models intelligently searching their parameters for optimal values. A leaderboard is maintained. Finally, an ensemble is created stacking together some of the base learners and the result is added to the leaderboard. The best model is used ion production. \n"
   ]
  },
  {
   "cell_type": "code",
   "execution_count": 44,
   "metadata": {},
   "outputs": [
    {
     "data": {
      "text/html": [
       "<script>requirejs.config({paths: { 'plotly': ['https://cdn.plot.ly/plotly-latest.min']},});if(!window.Plotly) {{require(['plotly'],function(plotly) {window.Plotly=plotly;});}}</script>"
      ],
      "text/vnd.plotly.v1+html": [
       "<script>requirejs.config({paths: { 'plotly': ['https://cdn.plot.ly/plotly-latest.min']},});if(!window.Plotly) {{require(['plotly'],function(plotly) {window.Plotly=plotly;});}}</script>"
      ]
     },
     "metadata": {},
     "output_type": "display_data"
    }
   ],
   "source": [
    "import h2o\n",
    "from h2o.automl import H2OAutoML\n",
    "\n",
    "import plotly\n",
    "import plotly.plotly as py\n",
    "plotly.offline.init_notebook_mode(connected=True)\n",
    "#myPlotlyKey = os.environ['SECRET_ENV_BRETTS_PLOTLY_KEY']\n",
    "#py.sign_in(username='bretto777',api_key=myPlotlyKey)\n",
    "py.sign_in(username='bretto777',api_key='conh5EnFad0Z9Lz6mVWr')\n",
    "\n",
    "# Suppress unwatned warnings\n",
    "import warnings\n",
    "warnings.filterwarnings('ignore')\n",
    "\n",
    "import pandas as pd"
   ]
  },
  {
   "cell_type": "code",
   "execution_count": 4,
   "metadata": {
    "collapsed": true
   },
   "outputs": [],
   "source": [
    "%%capture\n",
    "h2o.init(nthreads=1, max_mem_size=2)"
   ]
  },
  {
   "cell_type": "code",
   "execution_count": 8,
   "metadata": {},
   "outputs": [
    {
     "name": "stdout",
     "output_type": "stream",
     "text": [
      "Parse progress: |█████████████████████████████████████████████████████████| 100%\n"
     ]
    }
   ],
   "source": [
    "# Import some data from Amazon S3\n",
    "h2oDF = h2o.import_file(\"https://s3-us-west-1.amazonaws.com/dsclouddata/LendingClubData/LoansGoodBad.csv\")\n",
    "\n",
    "# Stratified Split into Train/Test\n",
    "stratsplit = h2oDF[\"Bad_Loan\"].stratified_split(test_frac=0.3, seed=12349453)\n",
    "train = h2oDF[stratsplit==\"train\"]\n",
    "test = h2oDF[stratsplit==\"test\"]\n"
   ]
  },
  {
   "cell_type": "code",
   "execution_count": 14,
   "metadata": {},
   "outputs": [
    {
     "data": {
      "text/html": [
       "<table>\n",
       "<thead>\n",
       "<tr><th>State  </th><th style=\"text-align: right;\">  sum_Longest_Credit_Length</th><th style=\"text-align: right;\">  sum_Loan_Amount</th><th style=\"text-align: right;\">  sum_Total_Accounts</th><th style=\"text-align: right;\">  sum_Revolving_Cr_Util</th><th style=\"text-align: right;\">  sum_Bad_Loan</th><th style=\"text-align: right;\">  sum_Employment_Years</th><th style=\"text-align: right;\">  sum_Interest_Rate</th><th style=\"text-align: right;\">  sum_Debt_to_Income</th><th style=\"text-align: right;\">  sum_Verification_Status</th><th style=\"text-align: right;\">  sum_Home_Ownership</th><th style=\"text-align: right;\">  sum_Term</th><th style=\"text-align: right;\">  sum_Delinquent_2yr</th><th style=\"text-align: right;\">  sum_Annual_Income</th><th style=\"text-align: right;\">  sum_Loan_Purpose</th><th style=\"text-align: right;\">       sum_RowID</th></tr>\n",
       "</thead>\n",
       "<tbody>\n",
       "<tr><td>       </td><td style=\"text-align: right;\">                        nan</td><td style=\"text-align: right;\">    nan          </td><td style=\"text-align: right;\">                 nan</td><td style=\"text-align: right;\">                  nan  </td><td style=\"text-align: right;\">             0</td><td style=\"text-align: right;\">                   nan</td><td style=\"text-align: right;\">             nan   </td><td style=\"text-align: right;\">              nan   </td><td style=\"text-align: right;\">                      nan</td><td style=\"text-align: right;\">                 nan</td><td style=\"text-align: right;\">       nan</td><td style=\"text-align: right;\">                 nan</td><td style=\"text-align: right;\">      nan          </td><td style=\"text-align: right;\">               nan</td><td style=\"text-align: right;\">688617          </td></tr>\n",
       "<tr><td>AK     </td><td style=\"text-align: right;\">                       6136</td><td style=\"text-align: right;\">      6.32165e+06</td><td style=\"text-align: right;\">               10057</td><td style=\"text-align: right;\">                25464.8</td><td style=\"text-align: right;\">            61</td><td style=\"text-align: right;\">                   nan</td><td style=\"text-align: right;\">            5924.42</td><td style=\"text-align: right;\">             7099.96</td><td style=\"text-align: right;\">                      380</td><td style=\"text-align: right;\">                1123</td><td style=\"text-align: right;\">        87</td><td style=\"text-align: right;\">                  92</td><td style=\"text-align: right;\">        3.10059e+07</td><td style=\"text-align: right;\">              1208</td><td style=\"text-align: right;\">     3.47763e+07</td></tr>\n",
       "<tr><td>AL     </td><td style=\"text-align: right;\">                      30634</td><td style=\"text-align: right;\">      2.50100e+07</td><td style=\"text-align: right;\">               51329</td><td style=\"text-align: right;\">                  nan  </td><td style=\"text-align: right;\">           411</td><td style=\"text-align: right;\">                   nan</td><td style=\"text-align: right;\">           27328.4 </td><td style=\"text-align: right;\">            34196.3 </td><td style=\"text-align: right;\">                     1940</td><td style=\"text-align: right;\">                4392</td><td style=\"text-align: right;\">       456</td><td style=\"text-align: right;\">                 485</td><td style=\"text-align: right;\">        1.26494e+08</td><td style=\"text-align: right;\">              5823</td><td style=\"text-align: right;\">     1.65868e+08</td></tr>\n",
       "<tr><td>AR     </td><td style=\"text-align: right;\">                      16909</td><td style=\"text-align: right;\">      1.32599e+07</td><td style=\"text-align: right;\">               28016</td><td style=\"text-align: right;\">                  nan  </td><td style=\"text-align: right;\">           212</td><td style=\"text-align: right;\">                   nan</td><td style=\"text-align: right;\">           15080.4 </td><td style=\"text-align: right;\">            19743.4 </td><td style=\"text-align: right;\">                     1054</td><td style=\"text-align: right;\">                2460</td><td style=\"text-align: right;\">       212</td><td style=\"text-align: right;\">                 245</td><td style=\"text-align: right;\">        6.96305e+07</td><td style=\"text-align: right;\">              3253</td><td style=\"text-align: right;\">     9.19099e+07</td></tr>\n",
       "<tr><td>AZ     </td><td style=\"text-align: right;\">                      58960</td><td style=\"text-align: right;\">      4.95386e+07</td><td style=\"text-align: right;\">               96444</td><td style=\"text-align: right;\">                  nan  </td><td style=\"text-align: right;\">           686</td><td style=\"text-align: right;\">                   nan</td><td style=\"text-align: right;\">           54066.4 </td><td style=\"text-align: right;\">            62254.9 </td><td style=\"text-align: right;\">                     3956</td><td style=\"text-align: right;\">               10965</td><td style=\"text-align: right;\">       823</td><td style=\"text-align: right;\">                 875</td><td style=\"text-align: right;\">        2.68764e+08</td><td style=\"text-align: right;\">             11712</td><td style=\"text-align: right;\">     3.29551e+08</td></tr>\n",
       "<tr><td>CA     </td><td style=\"text-align: right;\">                     419286</td><td style=\"text-align: right;\">      3.79287e+08</td><td style=\"text-align: right;\">              657644</td><td style=\"text-align: right;\">                  nan  </td><td style=\"text-align: right;\">          5109</td><td style=\"text-align: right;\">                   nan</td><td style=\"text-align: right;\">          392424   </td><td style=\"text-align: right;\">           428053   </td><td style=\"text-align: right;\">                    27652</td><td style=\"text-align: right;\">              101186</td><td style=\"text-align: right;\">      5394</td><td style=\"text-align: right;\">                6236</td><td style=\"text-align: right;\">        2.16931e+09</td><td style=\"text-align: right;\">             86498</td><td style=\"text-align: right;\">     2.33318e+09</td></tr>\n",
       "<tr><td>CO     </td><td style=\"text-align: right;\">                        nan</td><td style=\"text-align: right;\">      4.7093e+07 </td><td style=\"text-align: right;\">                 nan</td><td style=\"text-align: right;\">                  nan  </td><td style=\"text-align: right;\">           506</td><td style=\"text-align: right;\">                   nan</td><td style=\"text-align: right;\">           47705.6 </td><td style=\"text-align: right;\">            57493.1 </td><td style=\"text-align: right;\">                     3517</td><td style=\"text-align: right;\">                9453</td><td style=\"text-align: right;\">       731</td><td style=\"text-align: right;\">                 nan</td><td style=\"text-align: right;\">        2.50222e+08</td><td style=\"text-align: right;\">              9896</td><td style=\"text-align: right;\">     2.95017e+08</td></tr>\n",
       "<tr><td>CT     </td><td style=\"text-align: right;\">                        nan</td><td style=\"text-align: right;\">      3.32924e+07</td><td style=\"text-align: right;\">                 nan</td><td style=\"text-align: right;\">                  nan  </td><td style=\"text-align: right;\">           434</td><td style=\"text-align: right;\">                   nan</td><td style=\"text-align: right;\">           34757.7 </td><td style=\"text-align: right;\">            38050.8 </td><td style=\"text-align: right;\">                     2656</td><td style=\"text-align: right;\">                7639</td><td style=\"text-align: right;\">       558</td><td style=\"text-align: right;\">                 nan</td><td style=\"text-align: right;\">        1.97127e+08</td><td style=\"text-align: right;\">              7882</td><td style=\"text-align: right;\">     1.99883e+08</td></tr>\n",
       "<tr><td>DC     </td><td style=\"text-align: right;\">                       8305</td><td style=\"text-align: right;\">      7.7766e+06 </td><td style=\"text-align: right;\">               13349</td><td style=\"text-align: right;\">                  nan  </td><td style=\"text-align: right;\">            67</td><td style=\"text-align: right;\">                   nan</td><td style=\"text-align: right;\">            7625.1 </td><td style=\"text-align: right;\">             7896.42</td><td style=\"text-align: right;\">                      594</td><td style=\"text-align: right;\">                2219</td><td style=\"text-align: right;\">       100</td><td style=\"text-align: right;\">                 139</td><td style=\"text-align: right;\">        4.80241e+07</td><td style=\"text-align: right;\">              1758</td><td style=\"text-align: right;\">     4.28185e+07</td></tr>\n",
       "<tr><td>DE     </td><td style=\"text-align: right;\">                       6763</td><td style=\"text-align: right;\">      5.57138e+06</td><td style=\"text-align: right;\">               11553</td><td style=\"text-align: right;\">                  nan  </td><td style=\"text-align: right;\">            76</td><td style=\"text-align: right;\">                   nan</td><td style=\"text-align: right;\">            6113.17</td><td style=\"text-align: right;\">             7444.13</td><td style=\"text-align: right;\">                      420</td><td style=\"text-align: right;\">                1176</td><td style=\"text-align: right;\">       101</td><td style=\"text-align: right;\">                 110</td><td style=\"text-align: right;\">        3.22135e+07</td><td style=\"text-align: right;\">              1413</td><td style=\"text-align: right;\">     3.52697e+07</td></tr>\n",
       "</tbody>\n",
       "</table>"
      ]
     },
     "metadata": {},
     "output_type": "display_data"
    },
    {
     "data": {
      "text/plain": []
     },
     "execution_count": 14,
     "metadata": {},
     "output_type": "execute_result"
    }
   ],
   "source": [
    "h2oDF.group_by(by=\"State\").sum().frame"
   ]
  },
  {
   "cell_type": "code",
   "execution_count": 36,
   "metadata": {},
   "outputs": [],
   "source": [
    "dfSum = h2oDF.group_by(by=\"State\").sum().frame\n",
    "dfMean = h2oDF.group_by(by=\"State\").mean().frame\n",
    "stateData = dfSum.merge(dfMean).as_data_frame(use_pandas=True, header=True)"
   ]
  },
  {
   "cell_type": "code",
   "execution_count": 39,
   "metadata": {},
   "outputs": [
    {
     "data": {
      "text/html": [
       "<div>\n",
       "<style>\n",
       "    .dataframe thead tr:only-child th {\n",
       "        text-align: right;\n",
       "    }\n",
       "\n",
       "    .dataframe thead th {\n",
       "        text-align: left;\n",
       "    }\n",
       "\n",
       "    .dataframe tbody tr th {\n",
       "        vertical-align: top;\n",
       "    }\n",
       "</style>\n",
       "<table border=\"1\" class=\"dataframe\">\n",
       "  <thead>\n",
       "    <tr style=\"text-align: right;\">\n",
       "      <th></th>\n",
       "      <th>State</th>\n",
       "      <th>mean_Verification_Status</th>\n",
       "      <th>mean_Annual_Income</th>\n",
       "      <th>mean_RowID</th>\n",
       "      <th>mean_Debt_to_Income</th>\n",
       "      <th>mean_Bad_Loan</th>\n",
       "      <th>mean_Interest_Rate</th>\n",
       "      <th>mean_Term</th>\n",
       "      <th>mean_Home_Ownership</th>\n",
       "      <th>mean_Loan_Purpose</th>\n",
       "      <th>...</th>\n",
       "      <th>sum_Employment_Years</th>\n",
       "      <th>sum_Interest_Rate</th>\n",
       "      <th>sum_Debt_to_Income</th>\n",
       "      <th>sum_Verification_Status</th>\n",
       "      <th>sum_Home_Ownership</th>\n",
       "      <th>sum_Term</th>\n",
       "      <th>sum_Delinquent_2yr</th>\n",
       "      <th>sum_Annual_Income</th>\n",
       "      <th>sum_Loan_Purpose</th>\n",
       "      <th>sum_RowID</th>\n",
       "    </tr>\n",
       "  </thead>\n",
       "  <tbody>\n",
       "    <tr>\n",
       "      <th>1</th>\n",
       "      <td>AK</td>\n",
       "      <td>0.920097</td>\n",
       "      <td>75074.782470</td>\n",
       "      <td>84204.145278</td>\n",
       "      <td>17.191186</td>\n",
       "      <td>0.147700</td>\n",
       "      <td>14.344843</td>\n",
       "      <td>0.210654</td>\n",
       "      <td>2.719128</td>\n",
       "      <td>2.924939</td>\n",
       "      <td>...</td>\n",
       "      <td>NaN</td>\n",
       "      <td>NaN</td>\n",
       "      <td>NaN</td>\n",
       "      <td>NaN</td>\n",
       "      <td>NaN</td>\n",
       "      <td>NaN</td>\n",
       "      <td>NaN</td>\n",
       "      <td>NaN</td>\n",
       "      <td>NaN</td>\n",
       "      <td>688617</td>\n",
       "    </tr>\n",
       "    <tr>\n",
       "      <th>2</th>\n",
       "      <td>AL</td>\n",
       "      <td>0.987277</td>\n",
       "      <td>64373.552921</td>\n",
       "      <td>84411.264631</td>\n",
       "      <td>17.402707</td>\n",
       "      <td>0.209160</td>\n",
       "      <td>13.907583</td>\n",
       "      <td>0.232061</td>\n",
       "      <td>2.235115</td>\n",
       "      <td>2.963359</td>\n",
       "      <td>...</td>\n",
       "      <td>NaN</td>\n",
       "      <td>27328.40</td>\n",
       "      <td>34196.32</td>\n",
       "      <td>1940.0</td>\n",
       "      <td>4392.0</td>\n",
       "      <td>456.0</td>\n",
       "      <td>485.0</td>\n",
       "      <td>1.264940e+08</td>\n",
       "      <td>5823.0</td>\n",
       "      <td>165868135</td>\n",
       "    </tr>\n",
       "    <tr>\n",
       "      <th>3</th>\n",
       "      <td>AR</td>\n",
       "      <td>0.954710</td>\n",
       "      <td>63071.069257</td>\n",
       "      <td>83251.721920</td>\n",
       "      <td>17.883524</td>\n",
       "      <td>0.192029</td>\n",
       "      <td>13.659783</td>\n",
       "      <td>0.192029</td>\n",
       "      <td>2.228261</td>\n",
       "      <td>2.946558</td>\n",
       "      <td>...</td>\n",
       "      <td>NaN</td>\n",
       "      <td>15080.40</td>\n",
       "      <td>19743.41</td>\n",
       "      <td>1054.0</td>\n",
       "      <td>2460.0</td>\n",
       "      <td>212.0</td>\n",
       "      <td>245.0</td>\n",
       "      <td>6.963046e+07</td>\n",
       "      <td>3253.0</td>\n",
       "      <td>91909901</td>\n",
       "    </tr>\n",
       "    <tr>\n",
       "      <th>4</th>\n",
       "      <td>AZ</td>\n",
       "      <td>1.003806</td>\n",
       "      <td>68197.012971</td>\n",
       "      <td>83621.286729</td>\n",
       "      <td>15.796739</td>\n",
       "      <td>0.174067</td>\n",
       "      <td>13.718960</td>\n",
       "      <td>0.208830</td>\n",
       "      <td>2.782289</td>\n",
       "      <td>2.971835</td>\n",
       "      <td>...</td>\n",
       "      <td>NaN</td>\n",
       "      <td>54066.42</td>\n",
       "      <td>62254.95</td>\n",
       "      <td>3956.0</td>\n",
       "      <td>10965.0</td>\n",
       "      <td>823.0</td>\n",
       "      <td>875.0</td>\n",
       "      <td>2.687644e+08</td>\n",
       "      <td>11712.0</td>\n",
       "      <td>329551491</td>\n",
       "    </tr>\n",
       "    <tr>\n",
       "      <th>5</th>\n",
       "      <td>CA</td>\n",
       "      <td>0.963417</td>\n",
       "      <td>75580.359600</td>\n",
       "      <td>81289.964532</td>\n",
       "      <td>14.913687</td>\n",
       "      <td>0.178002</td>\n",
       "      <td>13.672361</td>\n",
       "      <td>0.187931</td>\n",
       "      <td>3.525399</td>\n",
       "      <td>3.013658</td>\n",
       "      <td>...</td>\n",
       "      <td>NaN</td>\n",
       "      <td>392424.11</td>\n",
       "      <td>428052.64</td>\n",
       "      <td>27652.0</td>\n",
       "      <td>101186.0</td>\n",
       "      <td>5394.0</td>\n",
       "      <td>6236.0</td>\n",
       "      <td>2.169307e+09</td>\n",
       "      <td>86498.0</td>\n",
       "      <td>2333184562</td>\n",
       "    </tr>\n",
       "    <tr>\n",
       "      <th>6</th>\n",
       "      <td>CO</td>\n",
       "      <td>0.996035</td>\n",
       "      <td>70864.263786</td>\n",
       "      <td>83550.473237</td>\n",
       "      <td>16.282382</td>\n",
       "      <td>0.143302</td>\n",
       "      <td>13.510518</td>\n",
       "      <td>0.207024</td>\n",
       "      <td>2.677145</td>\n",
       "      <td>2.802605</td>\n",
       "      <td>...</td>\n",
       "      <td>NaN</td>\n",
       "      <td>47705.64</td>\n",
       "      <td>57493.09</td>\n",
       "      <td>3517.0</td>\n",
       "      <td>9453.0</td>\n",
       "      <td>731.0</td>\n",
       "      <td>NaN</td>\n",
       "      <td>2.502217e+08</td>\n",
       "      <td>9896.0</td>\n",
       "      <td>295016721</td>\n",
       "    </tr>\n",
       "    <tr>\n",
       "      <th>7</th>\n",
       "      <td>CT</td>\n",
       "      <td>1.036286</td>\n",
       "      <td>76912.555888</td>\n",
       "      <td>77987.909871</td>\n",
       "      <td>14.846180</td>\n",
       "      <td>0.169333</td>\n",
       "      <td>13.561334</td>\n",
       "      <td>0.217714</td>\n",
       "      <td>2.980492</td>\n",
       "      <td>3.075302</td>\n",
       "      <td>...</td>\n",
       "      <td>NaN</td>\n",
       "      <td>34757.70</td>\n",
       "      <td>38050.76</td>\n",
       "      <td>2656.0</td>\n",
       "      <td>7639.0</td>\n",
       "      <td>558.0</td>\n",
       "      <td>NaN</td>\n",
       "      <td>1.971269e+08</td>\n",
       "      <td>7882.0</td>\n",
       "      <td>199883013</td>\n",
       "    </tr>\n",
       "    <tr>\n",
       "      <th>8</th>\n",
       "      <td>DC</td>\n",
       "      <td>1.017123</td>\n",
       "      <td>82233.084486</td>\n",
       "      <td>73319.361301</td>\n",
       "      <td>13.521267</td>\n",
       "      <td>0.114726</td>\n",
       "      <td>13.056678</td>\n",
       "      <td>0.171233</td>\n",
       "      <td>3.799658</td>\n",
       "      <td>3.010274</td>\n",
       "      <td>...</td>\n",
       "      <td>NaN</td>\n",
       "      <td>7625.10</td>\n",
       "      <td>7896.42</td>\n",
       "      <td>594.0</td>\n",
       "      <td>2219.0</td>\n",
       "      <td>100.0</td>\n",
       "      <td>139.0</td>\n",
       "      <td>4.802412e+07</td>\n",
       "      <td>1758.0</td>\n",
       "      <td>42818507</td>\n",
       "    </tr>\n",
       "    <tr>\n",
       "      <th>9</th>\n",
       "      <td>DE</td>\n",
       "      <td>0.943820</td>\n",
       "      <td>72389.984472</td>\n",
       "      <td>79257.860674</td>\n",
       "      <td>16.728382</td>\n",
       "      <td>0.170787</td>\n",
       "      <td>13.737461</td>\n",
       "      <td>0.226966</td>\n",
       "      <td>2.642697</td>\n",
       "      <td>3.175281</td>\n",
       "      <td>...</td>\n",
       "      <td>NaN</td>\n",
       "      <td>6113.17</td>\n",
       "      <td>7444.13</td>\n",
       "      <td>420.0</td>\n",
       "      <td>1176.0</td>\n",
       "      <td>101.0</td>\n",
       "      <td>110.0</td>\n",
       "      <td>3.221354e+07</td>\n",
       "      <td>1413.0</td>\n",
       "      <td>35269748</td>\n",
       "    </tr>\n",
       "    <tr>\n",
       "      <th>10</th>\n",
       "      <td>FL</td>\n",
       "      <td>1.011144</td>\n",
       "      <td>67477.725996</td>\n",
       "      <td>81075.007459</td>\n",
       "      <td>16.024970</td>\n",
       "      <td>0.212531</td>\n",
       "      <td>13.700512</td>\n",
       "      <td>0.192348</td>\n",
       "      <td>2.956827</td>\n",
       "      <td>3.182608</td>\n",
       "      <td>...</td>\n",
       "      <td>NaN</td>\n",
       "      <td>156131.03</td>\n",
       "      <td>182620.56</td>\n",
       "      <td>11523.0</td>\n",
       "      <td>33696.0</td>\n",
       "      <td>2192.0</td>\n",
       "      <td>NaN</td>\n",
       "      <td>7.689762e+08</td>\n",
       "      <td>36269.0</td>\n",
       "      <td>923930785</td>\n",
       "    </tr>\n",
       "  </tbody>\n",
       "</table>\n",
       "<p>10 rows × 31 columns</p>\n",
       "</div>"
      ],
      "text/plain": [
       "   State  mean_Verification_Status  mean_Annual_Income    mean_RowID  \\\n",
       "1     AK                  0.920097        75074.782470  84204.145278   \n",
       "2     AL                  0.987277        64373.552921  84411.264631   \n",
       "3     AR                  0.954710        63071.069257  83251.721920   \n",
       "4     AZ                  1.003806        68197.012971  83621.286729   \n",
       "5     CA                  0.963417        75580.359600  81289.964532   \n",
       "6     CO                  0.996035        70864.263786  83550.473237   \n",
       "7     CT                  1.036286        76912.555888  77987.909871   \n",
       "8     DC                  1.017123        82233.084486  73319.361301   \n",
       "9     DE                  0.943820        72389.984472  79257.860674   \n",
       "10    FL                  1.011144        67477.725996  81075.007459   \n",
       "\n",
       "    mean_Debt_to_Income  mean_Bad_Loan  mean_Interest_Rate  mean_Term  \\\n",
       "1             17.191186       0.147700           14.344843   0.210654   \n",
       "2             17.402707       0.209160           13.907583   0.232061   \n",
       "3             17.883524       0.192029           13.659783   0.192029   \n",
       "4             15.796739       0.174067           13.718960   0.208830   \n",
       "5             14.913687       0.178002           13.672361   0.187931   \n",
       "6             16.282382       0.143302           13.510518   0.207024   \n",
       "7             14.846180       0.169333           13.561334   0.217714   \n",
       "8             13.521267       0.114726           13.056678   0.171233   \n",
       "9             16.728382       0.170787           13.737461   0.226966   \n",
       "10            16.024970       0.212531           13.700512   0.192348   \n",
       "\n",
       "    mean_Home_Ownership  mean_Loan_Purpose     ...      sum_Employment_Years  \\\n",
       "1              2.719128           2.924939     ...                       NaN   \n",
       "2              2.235115           2.963359     ...                       NaN   \n",
       "3              2.228261           2.946558     ...                       NaN   \n",
       "4              2.782289           2.971835     ...                       NaN   \n",
       "5              3.525399           3.013658     ...                       NaN   \n",
       "6              2.677145           2.802605     ...                       NaN   \n",
       "7              2.980492           3.075302     ...                       NaN   \n",
       "8              3.799658           3.010274     ...                       NaN   \n",
       "9              2.642697           3.175281     ...                       NaN   \n",
       "10             2.956827           3.182608     ...                       NaN   \n",
       "\n",
       "    sum_Interest_Rate  sum_Debt_to_Income  sum_Verification_Status  \\\n",
       "1                 NaN                 NaN                      NaN   \n",
       "2            27328.40            34196.32                   1940.0   \n",
       "3            15080.40            19743.41                   1054.0   \n",
       "4            54066.42            62254.95                   3956.0   \n",
       "5           392424.11           428052.64                  27652.0   \n",
       "6            47705.64            57493.09                   3517.0   \n",
       "7            34757.70            38050.76                   2656.0   \n",
       "8             7625.10             7896.42                    594.0   \n",
       "9             6113.17             7444.13                    420.0   \n",
       "10          156131.03           182620.56                  11523.0   \n",
       "\n",
       "    sum_Home_Ownership  sum_Term  sum_Delinquent_2yr  sum_Annual_Income  \\\n",
       "1                  NaN       NaN                 NaN                NaN   \n",
       "2               4392.0     456.0               485.0       1.264940e+08   \n",
       "3               2460.0     212.0               245.0       6.963046e+07   \n",
       "4              10965.0     823.0               875.0       2.687644e+08   \n",
       "5             101186.0    5394.0              6236.0       2.169307e+09   \n",
       "6               9453.0     731.0                 NaN       2.502217e+08   \n",
       "7               7639.0     558.0                 NaN       1.971269e+08   \n",
       "8               2219.0     100.0               139.0       4.802412e+07   \n",
       "9               1176.0     101.0               110.0       3.221354e+07   \n",
       "10             33696.0    2192.0                 NaN       7.689762e+08   \n",
       "\n",
       "    sum_Loan_Purpose   sum_RowID  \n",
       "1                NaN      688617  \n",
       "2             5823.0   165868135  \n",
       "3             3253.0    91909901  \n",
       "4            11712.0   329551491  \n",
       "5            86498.0  2333184562  \n",
       "6             9896.0   295016721  \n",
       "7             7882.0   199883013  \n",
       "8             1758.0    42818507  \n",
       "9             1413.0    35269748  \n",
       "10           36269.0   923930785  \n",
       "\n",
       "[10 rows x 31 columns]"
      ]
     },
     "execution_count": 39,
     "metadata": {},
     "output_type": "execute_result"
    }
   ],
   "source": [
    "stateData = stateData.iloc[1:]\n",
    "stateData.head(10)"
   ]
  },
  {
   "cell_type": "code",
   "execution_count": 63,
   "metadata": {},
   "outputs": [
    {
     "data": {
      "text/html": [
       "<iframe id=\"igraph\" scrolling=\"no\" style=\"border:none;\" seamless=\"seamless\" src=\"https://plot.ly/~bretto777/2693.embed\" height=\"525px\" width=\"100%\"></iframe>"
      ],
      "text/plain": [
       "<plotly.tools.PlotlyDisplay object>"
      ]
     },
     "execution_count": 63,
     "metadata": {},
     "output_type": "execute_result"
    }
   ],
   "source": [
    "for col in stateData.columns:\n",
    "    stateData[col] = stateData[col].astype(str)\n",
    "\n",
    "scl = [[0.0, 'rgb(164, 182, 216)'],[0.2, 'rgb(116, 141, 188)'],[0.4, 'rgb(69, 102, 165)'],\\\n",
    "            [0.6, 'rgb(45, 82, 153)'],[0.8, 'rgb(26, 62, 132)'],[1.0, 'rgb(4, 37, 99)']]\n",
    "\n",
    "stateData['text'] = 'Avg Interest_Rate '+stateData['mean_Interest_Rate']+ '<br>' +\\\n",
    "    'Total Loan_Amount '+stateData['sum_Loan_Amount']+'<br>'+\\\n",
    "    'Avg Term '+stateData['mean_Term']+ '<br>' +\\\n",
    "    'Avg Income ' + stateData['mean_Annual_Income']\n",
    "\n",
    "data = [ dict(\n",
    "        type='choropleth',\n",
    "        colorscale = scl,\n",
    "        autocolorscale = False,\n",
    "        locations = stateData['State'],\n",
    "        z = stateData['sum_Bad_Loan'].astype(float),\n",
    "        locationmode = 'USA-states',\n",
    "        text = stateData['text'],\n",
    "        marker = dict(\n",
    "            line = dict (\n",
    "                color = 'rgb(255,255,255)',\n",
    "                width = 2\n",
    "            ) ),\n",
    "        colorbar = dict(\n",
    "            title = \"# Bad Loans\")\n",
    "        ) ]\n",
    "\n",
    "layout = dict(\n",
    "        title = 'Bad Loans by State<br>(Hover for breakdown)',\n",
    "        geo = dict(\n",
    "            scope='usa',\n",
    "            projection=dict( type='albers usa' ),\n",
    "            showlakes = True,\n",
    "            lakecolor = 'rgb(255, 255, 255)'),\n",
    "             )\n",
    "    \n",
    "fig = dict( data=data, layout=layout )\n",
    "py.iplot( fig, filename='d3-cloropleth-map' )"
   ]
  },
  {
   "cell_type": "code",
   "execution_count": 60,
   "metadata": {
    "collapsed": true
   },
   "outputs": [],
   "source": [
    "# Identify predictors and response\n",
    "x = train.columns\n",
    "y = \"Bad_Loan\"\n",
    "x.remove(y)\n",
    "\n",
    "# For binary classification, response should be a factor\n",
    "train[y] = train[y].asfactor()\n",
    "test[y] = test[y].asfactor()"
   ]
  },
  {
   "cell_type": "code",
   "execution_count": 61,
   "metadata": {},
   "outputs": [
    {
     "name": "stdout",
     "output_type": "stream",
     "text": [
      "AutoML progress: |████████████████████████████████████████████████████████| 100%\n",
      "Parse progress: |█████████████████████████████████████████████████████████| 100%\n"
     ]
    }
   ],
   "source": [
    "# Run AutoML for 20 minutes or until leader fails to improve after 5 rounds\n",
    "autoModel = H2OAutoML(max_runtime_secs = 30, stopping_rounds=5, stopping_tolerance=0.001)\n",
    "autoModel.train(x = x, y = y,\n",
    "          training_frame = train,\n",
    "          leaderboard_frame = test)"
   ]
  },
  {
   "cell_type": "markdown",
   "metadata": {},
   "source": [
    "## Leaderboard\n",
    "Display the best models, sorted by descending AUC"
   ]
  },
  {
   "cell_type": "code",
   "execution_count": 64,
   "metadata": {},
   "outputs": [
    {
     "data": {
      "text/html": [
       "<table>\n",
       "<thead>\n",
       "<tr><th style=\"text-align: right;\">  C1</th><th>model_id                               </th><th style=\"text-align: right;\">     auc</th><th style=\"text-align: right;\">  logloss</th></tr>\n",
       "</thead>\n",
       "<tbody>\n",
       "<tr><td style=\"text-align: right;\">   0</td><td>DRF_model_1496459915419_4              </td><td style=\"text-align: right;\">0.697976</td><td style=\"text-align: right;\"> 0.4407  </td></tr>\n",
       "<tr><td style=\"text-align: right;\">   1</td><td>StackedEnsemble_model_1496459915419_178</td><td style=\"text-align: right;\">0.697972</td><td style=\"text-align: right;\"> 0.440096</td></tr>\n",
       "</tbody>\n",
       "</table>"
      ]
     },
     "metadata": {},
     "output_type": "display_data"
    },
    {
     "data": {
      "text/plain": []
     },
     "execution_count": 64,
     "metadata": {},
     "output_type": "execute_result"
    }
   ],
   "source": [
    "leaders = autoModel.leaderboard\n",
    "leaders"
   ]
  },
  {
   "cell_type": "code",
   "execution_count": 67,
   "metadata": {},
   "outputs": [
    {
     "data": {
      "text/plain": [
       "u'/home/jupyter/Predict-Risk/DRF_model_1496459915419_4'"
      ]
     },
     "execution_count": 67,
     "metadata": {},
     "output_type": "execute_result"
    }
   ],
   "source": [
    "h2o.save_model(model=autoModel.leader)"
   ]
  },
  {
   "cell_type": "code",
   "execution_count": 74,
   "metadata": {
    "collapsed": true
   },
   "outputs": [],
   "source": [
    "def approve_loan(Loan_Amount,Term,Interest_Rate,Employment_Years,Home_Ownership,Annual_Income,Verification_Status,Loan_Purpose,State,\n",
    "                 Debt_to_Income,Delinquent_2yr,Revolving_Cr_Util,Total_Accounts,Longest_Credit_Length):\n",
    "    # connect to the model scoring service\n",
    "    h2o.connect()\n",
    "\n",
    "    # open the downloaded model\n",
    "    ChurnPredictor = h2o.load_model(path='DRF_model_1496459915419_4') \n",
    "\n",
    "    # define a feature vector to evaluate with the model\n",
    "    newData = pd.DataFrame({'Loan_Amount' : Loan_Amount,\n",
    "                            'Term' : Term,\n",
    "                            'Interest_Rate' : Interest_Rate,\n",
    "                            'Employment_Years' : Employment_Years,\n",
    "                            'Home_Ownership' : Home_Ownership,\n",
    "                            'Annual_Income' : Annual_Income,\n",
    "                            'Verification_Status' : Verification_Status,\n",
    "                            'Loan_Purpose' : Loan_Purpose,\n",
    "                            'State' : State,\n",
    "                            'Debt_to_Income' : Debt_to_Income,\n",
    "                            'Delinquent_2yr' : Delinquent_2yr,\n",
    "                            'Revolving_Cr_Util' : Revolving_Cr_Util,\n",
    "                            'Total_Accounts' : Total_Accounts,\n",
    "                            'Longest_Credit_Length' : Longest_Credit_Length}, index=[0])\n",
    "    \n",
    "    # evaluate the feature vector using the model\n",
    "    predictions = ChurnPredictor.predict(h2o.H2OFrame(newData))\n",
    "    predictionsOut = h2o.as_list(predictions, use_pandas=False)\n",
    "    prediction = predictionsOut[1][0]\n",
    "    probabilityBad = predictionsOut[1][1]\n",
    "    probabilityGood = predictionsOut[1][2]\n",
    "    return \"Prediction: \" + str(prediction) + \" |Probability of Bad Loan: \" + str(probabilityBad) + \" |Probability of Good Loan: \" + str(probabilityGood)"
   ]
  },
  {
   "cell_type": "code",
   "execution_count": 75,
   "metadata": {},
   "outputs": [
    {
     "name": "stdout",
     "output_type": "stream",
     "text": [
      "Connecting to H2O server at http://localhost:54321... successful.\n"
     ]
    },
    {
     "data": {
      "text/html": [
       "<div style=\"overflow:auto\"><table style=\"width:50%\"><tr><td>H2O cluster uptime:</td>\n",
       "<td>2 hours 8 mins</td></tr>\n",
       "<tr><td>H2O cluster version:</td>\n",
       "<td>3.11.0.3901</td></tr>\n",
       "<tr><td>H2O cluster version age:</td>\n",
       "<td>1 day </td></tr>\n",
       "<tr><td>H2O cluster name:</td>\n",
       "<td>H2O_from_python_unknownUser_3mlsbt</td></tr>\n",
       "<tr><td>H2O cluster total nodes:</td>\n",
       "<td>1</td></tr>\n",
       "<tr><td>H2O cluster free memory:</td>\n",
       "<td>1.530 Gb</td></tr>\n",
       "<tr><td>H2O cluster total cores:</td>\n",
       "<td>16</td></tr>\n",
       "<tr><td>H2O cluster allowed cores:</td>\n",
       "<td>1</td></tr>\n",
       "<tr><td>H2O cluster status:</td>\n",
       "<td>locked, healthy</td></tr>\n",
       "<tr><td>H2O connection url:</td>\n",
       "<td>http://localhost:54321</td></tr>\n",
       "<tr><td>H2O connection proxy:</td>\n",
       "<td>None</td></tr>\n",
       "<tr><td>H2O internal security:</td>\n",
       "<td>False</td></tr>\n",
       "<tr><td>Python version:</td>\n",
       "<td>2.7.12 final</td></tr></table></div>"
      ],
      "text/plain": [
       "--------------------------  ----------------------------------\n",
       "H2O cluster uptime:         2 hours 8 mins\n",
       "H2O cluster version:        3.11.0.3901\n",
       "H2O cluster version age:    1 day\n",
       "H2O cluster name:           H2O_from_python_unknownUser_3mlsbt\n",
       "H2O cluster total nodes:    1\n",
       "H2O cluster free memory:    1.530 Gb\n",
       "H2O cluster total cores:    16\n",
       "H2O cluster allowed cores:  1\n",
       "H2O cluster status:         locked, healthy\n",
       "H2O connection url:         http://localhost:54321\n",
       "H2O connection proxy:\n",
       "H2O internal security:      False\n",
       "Python version:             2.7.12 final\n",
       "--------------------------  ----------------------------------"
      ]
     },
     "metadata": {},
     "output_type": "display_data"
    },
    {
     "name": "stdout",
     "output_type": "stream",
     "text": [
      "Parse progress: |█████████████████████████████████████████████████████████| 100%\n",
      "drf prediction progress: |████████████████████████████████████████████████| 100%\n"
     ]
    },
    {
     "data": {
      "text/plain": [
       "'Prediction: 1 |Probability of Bad Loan: 0.6659056758880615 |Probability of Good Loan: 0.3340943241119385'"
      ]
     },
     "execution_count": 75,
     "metadata": {},
     "output_type": "execute_result"
    }
   ],
   "source": [
    "Loan_Amount = 5000\n",
    "Term = \"60 months\"\n",
    "Interest_Rate=13\n",
    "Employment_Years=5\n",
    "Home_Ownership=\"RENT\"\n",
    "Annual_Income=75000\n",
    "Verification_Status=\"VERIFIED - income\"\n",
    "Loan_Purpose=\"credit_card\"\n",
    "State=\"CA\"\n",
    "Debt_to_Income=\"16.12\"\n",
    "Delinquent_2yr=\"0\"\n",
    "Revolving_Cr_Util=37\n",
    "Total_Accounts=6\n",
    "Longest_Credit_Length=97\n",
    "approve_loan(Loan_Amount,Term,Interest_Rate,Employment_Years,Home_Ownership,Annual_Income,Verification_Status,Loan_Purpose,State,Debt_to_Income,Delinquent_2yr,Revolving_Cr_Util,Total_Accounts,Longest_Credit_Length)"
   ]
  }
 ],
 "metadata": {
  "kernelspec": {
   "display_name": "Python 2",
   "language": "python",
   "name": "python2"
  },
  "language_info": {
   "codemirror_mode": {
    "name": "ipython",
    "version": 2
   },
   "file_extension": ".py",
   "mimetype": "text/x-python",
   "name": "python",
   "nbconvert_exporter": "python",
   "pygments_lexer": "ipython2",
   "version": "2.7.12"
  }
 },
 "nbformat": 4,
 "nbformat_minor": 2
}

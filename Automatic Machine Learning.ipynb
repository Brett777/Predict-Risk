{
 "cells": [
  {
   "cell_type": "markdown",
   "metadata": {},
   "source": [
    "### Automatic Machine Learning\n",
    "\n",
    "This notebook ingests a dataset, and trains many machine learning models intelligently searching their parameters for optimal values. A leaderboard is maintained. Finally, an ensemble is created stacking together some of the base learners and the result is added to the leaderboard. The best model is used ion production. \n"
   ]
  },
  {
   "cell_type": "code",
   "execution_count": 12,
   "metadata": {},
   "outputs": [],
   "source": [
    "import h2o\n",
    "from h2o.automl import H2OAutoML"
   ]
  },
  {
   "cell_type": "code",
   "execution_count": 13,
   "metadata": {
    "collapsed": true
   },
   "outputs": [],
   "source": [
    "%%capture\n",
    "h2o.init(nthreads=1, max_mem_size=2)"
   ]
  },
  {
   "cell_type": "code",
   "execution_count": 14,
   "metadata": {},
   "outputs": [
    {
     "name": "stdout",
     "output_type": "stream",
     "text": [
      "Parse progress: |█████████████████████████████████████████████████████████| 100%\n"
     ]
    }
   ],
   "source": [
    "# Import some data from Amazon S3\n",
    "df = h2o.import_file(\"https://s3-us-west-1.amazonaws.com/dsclouddata/LendingClubData/LoansGoodBad.csv\")\n",
    "\n",
    "# Stratified Split into Train/Test\n",
    "stratsplit = df[\"Bad_Loan\"].stratified_split(test_frac=0.3, seed=12349453)\n",
    "train = df[stratsplit==\"train\"]\n",
    "test = df[stratsplit==\"test\"]\n"
   ]
  },
  {
   "cell_type": "code",
   "execution_count": 15,
   "metadata": {},
   "outputs": [
    {
     "data": {
      "text/html": [
       "<table>\n",
       "<thead>\n",
       "<tr><th style=\"text-align: right;\">  RowID</th><th style=\"text-align: right;\">  Loan_Amount</th><th>Term     </th><th style=\"text-align: right;\">  Interest_Rate</th><th style=\"text-align: right;\">  Employment_Years</th><th>Home_Ownership  </th><th style=\"text-align: right;\">  Annual_Income</th><th>Verification_Status     </th><th>Loan_Purpose      </th><th>State  </th><th style=\"text-align: right;\">  Debt_to_Income</th><th style=\"text-align: right;\">  Delinquent_2yr</th><th style=\"text-align: right;\">  Revolving_Cr_Util</th><th style=\"text-align: right;\">  Total_Accounts</th><th style=\"text-align: right;\">  Bad_Loan</th><th style=\"text-align: right;\">  Longest_Credit_Length</th></tr>\n",
       "</thead>\n",
       "<tbody>\n",
       "<tr><td style=\"text-align: right;\">      1</td><td style=\"text-align: right;\">         5000</td><td>36 months</td><td style=\"text-align: right;\">          10.65</td><td style=\"text-align: right;\">              10  </td><td>RENT            </td><td style=\"text-align: right;\">          24000</td><td>VERIFIED - income       </td><td>credit_card       </td><td>AZ     </td><td style=\"text-align: right;\">           27.65</td><td style=\"text-align: right;\">               0</td><td style=\"text-align: right;\">              83.7 </td><td style=\"text-align: right;\">               9</td><td style=\"text-align: right;\">         0</td><td style=\"text-align: right;\">                     26</td></tr>\n",
       "<tr><td style=\"text-align: right;\">      7</td><td style=\"text-align: right;\">         5600</td><td>60 months</td><td style=\"text-align: right;\">          21.28</td><td style=\"text-align: right;\">               4  </td><td>OWN             </td><td style=\"text-align: right;\">          40000</td><td>VERIFIED - income source</td><td>small_business    </td><td>CA     </td><td style=\"text-align: right;\">            5.55</td><td style=\"text-align: right;\">               0</td><td style=\"text-align: right;\">              32.6 </td><td style=\"text-align: right;\">              13</td><td style=\"text-align: right;\">         1</td><td style=\"text-align: right;\">                      7</td></tr>\n",
       "<tr><td style=\"text-align: right;\">      8</td><td style=\"text-align: right;\">         5375</td><td>60 months</td><td style=\"text-align: right;\">          12.69</td><td style=\"text-align: right;\">               0.5</td><td>RENT            </td><td style=\"text-align: right;\">          15000</td><td>VERIFIED - income       </td><td>other             </td><td>TX     </td><td style=\"text-align: right;\">           18.08</td><td style=\"text-align: right;\">               0</td><td style=\"text-align: right;\">              36.5 </td><td style=\"text-align: right;\">               3</td><td style=\"text-align: right;\">         1</td><td style=\"text-align: right;\">                      7</td></tr>\n",
       "<tr><td style=\"text-align: right;\">     10</td><td style=\"text-align: right;\">        12000</td><td>36 months</td><td style=\"text-align: right;\">          12.69</td><td style=\"text-align: right;\">              10  </td><td>OWN             </td><td style=\"text-align: right;\">          75000</td><td>VERIFIED - income source</td><td>debt_consolidation</td><td>CA     </td><td style=\"text-align: right;\">           10.78</td><td style=\"text-align: right;\">               0</td><td style=\"text-align: right;\">              67.1 </td><td style=\"text-align: right;\">              34</td><td style=\"text-align: right;\">         0</td><td style=\"text-align: right;\">                     22</td></tr>\n",
       "<tr><td style=\"text-align: right;\">     11</td><td style=\"text-align: right;\">         9000</td><td>36 months</td><td style=\"text-align: right;\">          13.49</td><td style=\"text-align: right;\">               0.5</td><td>RENT            </td><td style=\"text-align: right;\">          30000</td><td>VERIFIED - income source</td><td>debt_consolidation</td><td>VA     </td><td style=\"text-align: right;\">           10.08</td><td style=\"text-align: right;\">               0</td><td style=\"text-align: right;\">              91.7 </td><td style=\"text-align: right;\">               9</td><td style=\"text-align: right;\">         1</td><td style=\"text-align: right;\">                      7</td></tr>\n",
       "<tr><td style=\"text-align: right;\">     15</td><td style=\"text-align: right;\">        10000</td><td>36 months</td><td style=\"text-align: right;\">          15.27</td><td style=\"text-align: right;\">               4  </td><td>RENT            </td><td style=\"text-align: right;\">          42000</td><td>not verified            </td><td>home_improvement  </td><td>CA     </td><td style=\"text-align: right;\">           18.6 </td><td style=\"text-align: right;\">               0</td><td style=\"text-align: right;\">              70.2 </td><td style=\"text-align: right;\">              28</td><td style=\"text-align: right;\">         0</td><td style=\"text-align: right;\">                     13</td></tr>\n",
       "<tr><td style=\"text-align: right;\">     16</td><td style=\"text-align: right;\">         3600</td><td>36 months</td><td style=\"text-align: right;\">           6.03</td><td style=\"text-align: right;\">              10  </td><td>MORTGAGE        </td><td style=\"text-align: right;\">         110000</td><td>not verified            </td><td>major_purchase    </td><td>CT     </td><td style=\"text-align: right;\">           10.52</td><td style=\"text-align: right;\">               0</td><td style=\"text-align: right;\">              16   </td><td style=\"text-align: right;\">              42</td><td style=\"text-align: right;\">         0</td><td style=\"text-align: right;\">                     18</td></tr>\n",
       "<tr><td style=\"text-align: right;\">     17</td><td style=\"text-align: right;\">         6000</td><td>36 months</td><td style=\"text-align: right;\">          11.71</td><td style=\"text-align: right;\">               1  </td><td>MORTGAGE        </td><td style=\"text-align: right;\">          84000</td><td>VERIFIED - income       </td><td>medical           </td><td>UT     </td><td style=\"text-align: right;\">           18.44</td><td style=\"text-align: right;\">               2</td><td style=\"text-align: right;\">              37.73</td><td style=\"text-align: right;\">              14</td><td style=\"text-align: right;\">         0</td><td style=\"text-align: right;\">                      8</td></tr>\n",
       "<tr><td style=\"text-align: right;\">     20</td><td style=\"text-align: right;\">        10000</td><td>36 months</td><td style=\"text-align: right;\">          11.71</td><td style=\"text-align: right;\">              10  </td><td>OWN             </td><td style=\"text-align: right;\">          50000</td><td>VERIFIED - income source</td><td>credit_card       </td><td>TX     </td><td style=\"text-align: right;\">           11.18</td><td style=\"text-align: right;\">               0</td><td style=\"text-align: right;\">              82.4 </td><td style=\"text-align: right;\">              21</td><td style=\"text-align: right;\">         0</td><td style=\"text-align: right;\">                     26</td></tr>\n",
       "<tr><td style=\"text-align: right;\">     29</td><td style=\"text-align: right;\">        31825</td><td>36 months</td><td style=\"text-align: right;\">           7.9 </td><td style=\"text-align: right;\">               5  </td><td>MORTGAGE        </td><td style=\"text-align: right;\">          75000</td><td>VERIFIED - income       </td><td>debt_consolidation</td><td>NJ     </td><td style=\"text-align: right;\">           14.03</td><td style=\"text-align: right;\">               0</td><td style=\"text-align: right;\">              27.4 </td><td style=\"text-align: right;\">              26</td><td style=\"text-align: right;\">         0</td><td style=\"text-align: right;\">                     30</td></tr>\n",
       "</tbody>\n",
       "</table>"
      ]
     },
     "metadata": {},
     "output_type": "display_data"
    },
    {
     "data": {
      "text/plain": []
     },
     "execution_count": 15,
     "metadata": {},
     "output_type": "execute_result"
    }
   ],
   "source": [
    "test.head(10)"
   ]
  },
  {
   "cell_type": "code",
   "execution_count": 16,
   "metadata": {
    "collapsed": true
   },
   "outputs": [],
   "source": [
    "# Identify predictors and response\n",
    "x = train.columns\n",
    "y = \"Bad_Loan\"\n",
    "x.remove(y)\n",
    "\n",
    "# For binary classification, response should be a factor\n",
    "train[y] = train[y].asfactor()\n",
    "test[y] = test[y].asfactor()"
   ]
  },
  {
   "cell_type": "code",
   "execution_count": 19,
   "metadata": {},
   "outputs": [
    {
     "name": "stdout",
     "output_type": "stream",
     "text": [
      "AutoML progress: |████████████████████████████████████████████████████████| 100%\n",
      "Parse progress: |█████████████████████████████████████████████████████████| 100%\n"
     ]
    }
   ],
   "source": [
    "# Run AutoML for 20 minutes or until leader fails to improve after 5 rounds\n",
    "autoModel = H2OAutoML(max_runtime_secs = 1200, stopping_rounds=5, stopping_tolerance=0.001)\n",
    "autoModel.train(x = x, y = y,\n",
    "          training_frame = train,\n",
    "          leaderboard_frame = test)"
   ]
  },
  {
   "cell_type": "markdown",
   "metadata": {},
   "source": [
    "## Leaderboard\n",
    "Display the best models, sorted by descending AUC"
   ]
  },
  {
   "cell_type": "code",
   "execution_count": 20,
   "metadata": {},
   "outputs": [
    {
     "data": {
      "text/html": [
       "<table>\n",
       "<thead>\n",
       "<tr><th style=\"text-align: right;\">  C1</th><th>model_id                                          </th><th style=\"text-align: right;\">     auc</th><th style=\"text-align: right;\">  logloss</th></tr>\n",
       "</thead>\n",
       "<tbody>\n",
       "<tr><td style=\"text-align: right;\">   0</td><td>StackedEnsemble_model_1496453118819_1922          </td><td style=\"text-align: right;\">0.714036</td><td style=\"text-align: right;\"> 0.433196</td></tr>\n",
       "<tr><td style=\"text-align: right;\">   1</td><td>GBM_grid__80d02ea5022d38991707ef2352da46d4_model_0</td><td style=\"text-align: right;\">0.712403</td><td style=\"text-align: right;\"> 0.4695  </td></tr>\n",
       "<tr><td style=\"text-align: right;\">   2</td><td>GLM_grid__80d02ea5022d38991707ef2352da46d4_model_1</td><td style=\"text-align: right;\">0.702588</td><td style=\"text-align: right;\"> 0.434005</td></tr>\n",
       "<tr><td style=\"text-align: right;\">   3</td><td>GLM_grid__80d02ea5022d38991707ef2352da46d4_model_0</td><td style=\"text-align: right;\">0.702441</td><td style=\"text-align: right;\"> 0.437575</td></tr>\n",
       "<tr><td style=\"text-align: right;\">   4</td><td>XRT_model_1496453118819_1099                      </td><td style=\"text-align: right;\">0.699577</td><td style=\"text-align: right;\"> 0.437954</td></tr>\n",
       "<tr><td style=\"text-align: right;\">   5</td><td>DRF_model_1496453118819_925                       </td><td style=\"text-align: right;\">0.69619 </td><td style=\"text-align: right;\"> 0.440296</td></tr>\n",
       "</tbody>\n",
       "</table>"
      ]
     },
     "metadata": {},
     "output_type": "display_data"
    },
    {
     "data": {
      "text/plain": []
     },
     "execution_count": 20,
     "metadata": {},
     "output_type": "execute_result"
    }
   ],
   "source": [
    "leaders = autoModel.leaderboard\n",
    "leaders"
   ]
  },
  {
   "cell_type": "code",
   "execution_count": null,
   "metadata": {},
   "outputs": [],
   "source": [
    "preds = aml.predict(test)"
   ]
  }
 ],
 "metadata": {
  "kernelspec": {
   "display_name": "Python 2",
   "language": "python",
   "name": "python2"
  },
  "language_info": {
   "codemirror_mode": {
    "name": "ipython",
    "version": 2
   },
   "file_extension": ".py",
   "mimetype": "text/x-python",
   "name": "python",
   "nbconvert_exporter": "python",
   "pygments_lexer": "ipython2",
   "version": "2.7.12"
  }
 },
 "nbformat": 4,
 "nbformat_minor": 2
}

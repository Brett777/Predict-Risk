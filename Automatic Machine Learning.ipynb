{
 "cells": [
  {
   "cell_type": "markdown",
   "metadata": {},
   "source": [
    "# Loan Approval Model\n",
    "### Created with H2O Automatic Machine Learning\n",
    "\n",
    "This notebook ingests a dataset, and trains many machine learning models intelligently searching the hyper-parameter space for optimal values. A leaderboard is maintained. Finally, an ensemble is created stacking together some of the base learners and the result is added to the leaderboard. The best model is deployed to production. \n"
   ]
  },
  {
   "cell_type": "code",
   "execution_count": 2,
   "metadata": {},
   "outputs": [],
   "source": [
    "%%capture\n",
    "import h2o\n",
    "from h2o.automl import H2OAutoML\n",
    "\n",
    "import os\n",
    "import plotly\n",
    "import cufflinks\n",
    "import plotly.plotly as py\n",
    "import plotly.graph_objs as go\n",
    "import plotly.figure_factory as ff\n",
    "plotly.offline.init_notebook_mode(connected=True)\n",
    "\n",
    "myPlotlyKey = os.environ['SECRET_ENV_BRETTS_PLOTLY_KEY']\n",
    "py.sign_in(username='bretto777',api_key=myPlotlyKey)\n",
    "\n",
    "# Suppress unwatned warnings\n",
    "import warnings\n",
    "warnings.filterwarnings('ignore')\n",
    "\n",
    "\n",
    "import pandas as pd\n",
    "import numpy as np"
   ]
  },
  {
   "cell_type": "code",
   "execution_count": 5,
   "metadata": {},
   "outputs": [],
   "source": [
    "%%capture\n",
    "#h2o.init(nthreads=1, max_mem_size=\"256M\")\n",
    "h2o.connect(ip=\"35.199.178.30\")\n",
    "#h2o.no_progress()"
   ]
  },
  {
   "cell_type": "code",
   "execution_count": 6,
   "metadata": {},
   "outputs": [
    {
     "name": "stdout",
     "output_type": "stream",
     "text": [
      "Parse progress: |█████████████████████████████████████████████████████████| 100%\n"
     ]
    }
   ],
   "source": [
    "# Import some data from Amazon S3\n",
    "h2oDF = h2o.import_file(\"https://s3-us-west-1.amazonaws.com/dsclouddata/LendingClubData/LoansGoodBad.csv\")\n",
    "\n",
    "# Stratified Split into Train/Test\n",
    "stratsplit = h2oDF[\"Bad_Loan\"].stratified_split(test_frac=0.3, seed=12349453)\n",
    "train = h2oDF[stratsplit==\"train\"]\n",
    "test = h2oDF[stratsplit==\"test\"]\n"
   ]
  },
  {
   "cell_type": "code",
   "execution_count": 7,
   "metadata": {},
   "outputs": [
    {
     "data": {
      "text/html": [
       "<table>\n",
       "<thead>\n",
       "<tr><th style=\"text-align: right;\">  RowID</th><th style=\"text-align: right;\">  Loan_Amount</th><th>Term     </th><th style=\"text-align: right;\">  Interest_Rate</th><th style=\"text-align: right;\">  Employment_Years</th><th>Home_Ownership  </th><th style=\"text-align: right;\">  Annual_Income</th><th>Verification_Status     </th><th>Loan_Purpose      </th><th>State  </th><th style=\"text-align: right;\">  Debt_to_Income</th><th style=\"text-align: right;\">  Delinquent_2yr</th><th style=\"text-align: right;\">  Revolving_Cr_Util</th><th style=\"text-align: right;\">  Total_Accounts</th><th>Bad_Loan  </th><th style=\"text-align: right;\">  Longest_Credit_Length</th></tr>\n",
       "</thead>\n",
       "<tbody>\n",
       "<tr><td style=\"text-align: right;\">      2</td><td style=\"text-align: right;\">         2500</td><td>60 months</td><td style=\"text-align: right;\">          15.27</td><td style=\"text-align: right;\">               0.5</td><td>RENT            </td><td style=\"text-align: right;\">        30000  </td><td>VERIFIED - income source</td><td>car               </td><td>GA     </td><td style=\"text-align: right;\">            1   </td><td style=\"text-align: right;\">               0</td><td style=\"text-align: right;\">                9.4</td><td style=\"text-align: right;\">               4</td><td>BAD       </td><td style=\"text-align: right;\">                     12</td></tr>\n",
       "<tr><td style=\"text-align: right;\">      3</td><td style=\"text-align: right;\">         2400</td><td>36 months</td><td style=\"text-align: right;\">          15.96</td><td style=\"text-align: right;\">              10  </td><td>RENT            </td><td style=\"text-align: right;\">        12252  </td><td>not verified            </td><td>small_business    </td><td>IL     </td><td style=\"text-align: right;\">            8.72</td><td style=\"text-align: right;\">               0</td><td style=\"text-align: right;\">               98.5</td><td style=\"text-align: right;\">              10</td><td>GOOD      </td><td style=\"text-align: right;\">                     10</td></tr>\n",
       "<tr><td style=\"text-align: right;\">      4</td><td style=\"text-align: right;\">        10000</td><td>36 months</td><td style=\"text-align: right;\">          13.49</td><td style=\"text-align: right;\">              10  </td><td>RENT            </td><td style=\"text-align: right;\">        49200  </td><td>VERIFIED - income source</td><td>other             </td><td>CA     </td><td style=\"text-align: right;\">           20   </td><td style=\"text-align: right;\">               0</td><td style=\"text-align: right;\">               21  </td><td style=\"text-align: right;\">              37</td><td>GOOD      </td><td style=\"text-align: right;\">                     15</td></tr>\n",
       "<tr><td style=\"text-align: right;\">      5</td><td style=\"text-align: right;\">         5000</td><td>36 months</td><td style=\"text-align: right;\">           7.9 </td><td style=\"text-align: right;\">               3  </td><td>RENT            </td><td style=\"text-align: right;\">        36000  </td><td>VERIFIED - income source</td><td>wedding           </td><td>AZ     </td><td style=\"text-align: right;\">           11.2 </td><td style=\"text-align: right;\">               0</td><td style=\"text-align: right;\">               28.3</td><td style=\"text-align: right;\">              12</td><td>GOOD      </td><td style=\"text-align: right;\">                      7</td></tr>\n",
       "<tr><td style=\"text-align: right;\">      6</td><td style=\"text-align: right;\">         3000</td><td>36 months</td><td style=\"text-align: right;\">          18.64</td><td style=\"text-align: right;\">               9  </td><td>RENT            </td><td style=\"text-align: right;\">        48000  </td><td>VERIFIED - income source</td><td>car               </td><td>CA     </td><td style=\"text-align: right;\">            5.35</td><td style=\"text-align: right;\">               0</td><td style=\"text-align: right;\">               87.5</td><td style=\"text-align: right;\">               4</td><td>GOOD      </td><td style=\"text-align: right;\">                      4</td></tr>\n",
       "<tr><td style=\"text-align: right;\">      9</td><td style=\"text-align: right;\">         6500</td><td>60 months</td><td style=\"text-align: right;\">          14.65</td><td style=\"text-align: right;\">               5  </td><td>OWN             </td><td style=\"text-align: right;\">        72000  </td><td>not verified            </td><td>debt_consolidation</td><td>AZ     </td><td style=\"text-align: right;\">           16.12</td><td style=\"text-align: right;\">               0</td><td style=\"text-align: right;\">               20.6</td><td style=\"text-align: right;\">              23</td><td>GOOD      </td><td style=\"text-align: right;\">                     13</td></tr>\n",
       "<tr><td style=\"text-align: right;\">     12</td><td style=\"text-align: right;\">         3000</td><td>36 months</td><td style=\"text-align: right;\">           9.91</td><td style=\"text-align: right;\">               3  </td><td>RENT            </td><td style=\"text-align: right;\">        15000  </td><td>VERIFIED - income source</td><td>credit_card       </td><td>IL     </td><td style=\"text-align: right;\">           12.56</td><td style=\"text-align: right;\">               0</td><td style=\"text-align: right;\">               43.1</td><td style=\"text-align: right;\">              11</td><td>GOOD      </td><td style=\"text-align: right;\">                      8</td></tr>\n",
       "<tr><td style=\"text-align: right;\">     13</td><td style=\"text-align: right;\">        10000</td><td>36 months</td><td style=\"text-align: right;\">          10.65</td><td style=\"text-align: right;\">               3  </td><td>RENT            </td><td style=\"text-align: right;\">       100000  </td><td>VERIFIED - income source</td><td>other             </td><td>CA     </td><td style=\"text-align: right;\">            7.06</td><td style=\"text-align: right;\">               0</td><td style=\"text-align: right;\">               55.5</td><td style=\"text-align: right;\">              29</td><td>BAD       </td><td style=\"text-align: right;\">                     20</td></tr>\n",
       "<tr><td style=\"text-align: right;\">     14</td><td style=\"text-align: right;\">         1000</td><td>36 months</td><td style=\"text-align: right;\">          16.29</td><td style=\"text-align: right;\">               0.5</td><td>RENT            </td><td style=\"text-align: right;\">        28000  </td><td>not verified            </td><td>debt_consolidation</td><td>MO     </td><td style=\"text-align: right;\">           20.31</td><td style=\"text-align: right;\">               0</td><td style=\"text-align: right;\">               81.5</td><td style=\"text-align: right;\">              23</td><td>GOOD      </td><td style=\"text-align: right;\">                      4</td></tr>\n",
       "<tr><td style=\"text-align: right;\">     18</td><td style=\"text-align: right;\">         9200</td><td>36 months</td><td style=\"text-align: right;\">           6.03</td><td style=\"text-align: right;\">               6  </td><td>RENT            </td><td style=\"text-align: right;\">        77385.2</td><td>not verified            </td><td>debt_consolidation</td><td>CA     </td><td style=\"text-align: right;\">            9.86</td><td style=\"text-align: right;\">               0</td><td style=\"text-align: right;\">               23.1</td><td style=\"text-align: right;\">              28</td><td>GOOD      </td><td style=\"text-align: right;\">                     10</td></tr>\n",
       "</tbody>\n",
       "</table>"
      ]
     },
     "metadata": {},
     "output_type": "display_data"
    },
    {
     "data": {
      "text/plain": []
     },
     "execution_count": 7,
     "metadata": {},
     "output_type": "execute_result"
    }
   ],
   "source": [
    "dfSum = h2oDF.group_by(by=\"State\").sum().frame\n",
    "dfMean = h2oDF.group_by(by=\"State\").mean().frame\n",
    "stateData = dfSum.merge(dfMean).as_data_frame(use_pandas=True, header=True)\n",
    "stateData = stateData.iloc[1:]\n",
    "train.head(10)"
   ]
  },
  {
   "cell_type": "code",
   "execution_count": 8,
   "metadata": {},
   "outputs": [
    {
     "data": {
      "text/html": [
       "<iframe id=\"igraph\" scrolling=\"no\" style=\"border:none;\" seamless=\"seamless\" src=\"https://plot.ly/~bretto777/2693.embed\" height=\"525px\" width=\"100%\"></iframe>"
      ],
      "text/plain": [
       "<plotly.tools.PlotlyDisplay object>"
      ]
     },
     "execution_count": 8,
     "metadata": {},
     "output_type": "execute_result"
    }
   ],
   "source": [
    "for col in stateData.columns:\n",
    "    stateData[col] = stateData[col].astype(str)\n",
    "\n",
    "scl = [[0.0, 'rgb(164, 182, 216)'],[0.2, 'rgb(116, 141, 188)'],[0.4, 'rgb(69, 102, 165)'],\\\n",
    "            [0.6, 'rgb(45, 82, 153)'],[0.8, 'rgb(26, 62, 132)'],[1.0, 'rgb(4, 37, 99)']]\n",
    "\n",
    "stateData['text'] = 'Avg Interest_Rate '+stateData['mean_Interest_Rate']+ '<br>' +\\\n",
    "    'Total Loan_Amount '+stateData['sum_Loan_Amount']+'<br>'+\\\n",
    "    'Avg Term '+stateData['mean_Term']+ '<br>' +\\\n",
    "    'Avg Income ' + stateData['mean_Annual_Income']\n",
    "\n",
    "data = [ dict(\n",
    "        type='choropleth',\n",
    "        colorscale = scl,\n",
    "        autocolorscale = False,\n",
    "        locations = stateData['State'],\n",
    "        z = stateData['sum_Bad_Loan'].astype(float),\n",
    "        locationmode = 'USA-states',\n",
    "        text = stateData['text'],\n",
    "        marker = dict(\n",
    "            line = dict (\n",
    "                color = 'rgb(255,255,255)',\n",
    "                width = 2\n",
    "            ) ),\n",
    "        colorbar = dict(\n",
    "            title = \"# Bad Loans\")\n",
    "        ) ]\n",
    "\n",
    "layout = dict(\n",
    "        title = 'Bad Loans by State<br>(Hover for breakdown)',\n",
    "        geo = dict(\n",
    "            scope='usa',\n",
    "            projection=dict( type='albers usa' ),\n",
    "            showlakes = True,\n",
    "            lakecolor = 'rgb(255, 255, 255)'),\n",
    "             )\n",
    "    \n",
    "fig = dict( data=data, layout=layout )\n",
    "py.iplot( fig, filename='d3-cloropleth-map' )"
   ]
  },
  {
   "cell_type": "code",
   "execution_count": 9,
   "metadata": {},
   "outputs": [],
   "source": [
    "# Identify predictors and response\n",
    "x = train.columns\n",
    "y = \"Bad_Loan\"\n",
    "x.remove(y)\n",
    "\n",
    "# For binary classification, response should be a factor\n",
    "train[y] = train[y].asfactor()\n",
    "test[y] = test[y].asfactor()"
   ]
  },
  {
   "cell_type": "code",
   "execution_count": 11,
   "metadata": {},
   "outputs": [
    {
     "name": "stdout",
     "output_type": "stream",
     "text": [
      "AutoML progress: |████████████████████████████████████████████████████████| 100%\n",
      "Parse progress: |█████████████████████████████████████████████████████████| 100%\n"
     ]
    }
   ],
   "source": [
    "# Run AutoML, building 11 models\n",
    "autoModel = H2OAutoML(max_models=11)\n",
    "autoModel.train(x = x, y = y,\n",
    "          training_frame = train,\n",
    "          leaderboard_frame = test)"
   ]
  },
  {
   "cell_type": "markdown",
   "metadata": {},
   "source": [
    "## Leaderboard\n",
    "Display the best models, sorted by descending AUC"
   ]
  },
  {
   "cell_type": "code",
   "execution_count": 12,
   "metadata": {},
   "outputs": [
    {
     "data": {
      "text/html": [
       "<table>\n",
       "<thead>\n",
       "<tr><th>model_id                                             </th><th style=\"text-align: right;\">     auc</th><th style=\"text-align: right;\">  logloss</th></tr>\n",
       "</thead>\n",
       "<tbody>\n",
       "<tr><td>StackedEnsemble_AllModels_0_AutoML_20171204_164954   </td><td style=\"text-align: right;\">0.724092</td><td style=\"text-align: right;\"> 0.430484</td></tr>\n",
       "<tr><td>StackedEnsemble_BestOfFamily_0_AutoML_20171204_164954</td><td style=\"text-align: right;\">0.72219 </td><td style=\"text-align: right;\"> 0.431329</td></tr>\n",
       "<tr><td>GBM_grid_0_AutoML_20171204_164954_model_0            </td><td style=\"text-align: right;\">0.721619</td><td style=\"text-align: right;\"> 0.428126</td></tr>\n",
       "<tr><td>GBM_grid_0_AutoML_20171204_164954_model_5            </td><td style=\"text-align: right;\">0.72082 </td><td style=\"text-align: right;\"> 0.440175</td></tr>\n",
       "<tr><td>GBM_grid_0_AutoML_20171204_164954_model_1            </td><td style=\"text-align: right;\">0.720425</td><td style=\"text-align: right;\"> 0.428626</td></tr>\n",
       "<tr><td>GBM_grid_0_AutoML_20171204_164954_model_2            </td><td style=\"text-align: right;\">0.718393</td><td style=\"text-align: right;\"> 0.429827</td></tr>\n",
       "<tr><td>GBM_grid_0_AutoML_20171204_164954_model_4            </td><td style=\"text-align: right;\">0.71454 </td><td style=\"text-align: right;\"> 0.431989</td></tr>\n",
       "<tr><td>GBM_grid_0_AutoML_20171204_164954_model_3            </td><td style=\"text-align: right;\">0.711595</td><td style=\"text-align: right;\"> 0.433819</td></tr>\n",
       "<tr><td>GBM_grid_0_AutoML_20171204_164954_model_6            </td><td style=\"text-align: right;\">0.707657</td><td style=\"text-align: right;\"> 0.449183</td></tr>\n",
       "<tr><td>DeepLearning_0_AutoML_20171204_164954                </td><td style=\"text-align: right;\">0.706245</td><td style=\"text-align: right;\"> 0.437179</td></tr>\n",
       "</tbody>\n",
       "</table>"
      ]
     },
     "metadata": {},
     "output_type": "display_data"
    },
    {
     "data": {
      "text/plain": []
     },
     "execution_count": 12,
     "metadata": {},
     "output_type": "execute_result"
    }
   ],
   "source": [
    "leaders = autoModel.leaderboard\n",
    "leaders"
   ]
  },
  {
   "cell_type": "markdown",
   "metadata": {},
   "source": [
    "## Variable Importance - Best Model"
   ]
  },
  {
   "cell_type": "code",
   "execution_count": 21,
   "metadata": {},
   "outputs": [
    {
     "data": {
      "text/plain": [
       "u'StackedEnsemble_BestOfFamily_0_AutoML_20171204_164954'"
      ]
     },
     "execution_count": 21,
     "metadata": {},
     "output_type": "execute_result"
    }
   ],
   "source": [
    "leaders[1, 0]"
   ]
  },
  {
   "cell_type": "code",
   "execution_count": 23,
   "metadata": {},
   "outputs": [
    {
     "data": {
      "text/html": [
       "<div>\n",
       "<style scoped>\n",
       "    .dataframe tbody tr th:only-of-type {\n",
       "        vertical-align: middle;\n",
       "    }\n",
       "\n",
       "    .dataframe tbody tr th {\n",
       "        vertical-align: top;\n",
       "    }\n",
       "\n",
       "    .dataframe thead th {\n",
       "        text-align: right;\n",
       "    }\n",
       "</style>\n",
       "<table border=\"1\" class=\"dataframe\">\n",
       "  <thead>\n",
       "    <tr style=\"text-align: right;\">\n",
       "      <th></th>\n",
       "      <th>variable</th>\n",
       "      <th>relative_importance</th>\n",
       "      <th>scaled_importance</th>\n",
       "      <th>percentage</th>\n",
       "    </tr>\n",
       "  </thead>\n",
       "  <tbody>\n",
       "    <tr>\n",
       "      <th>0</th>\n",
       "      <td>Interest_Rate</td>\n",
       "      <td>3238.202881</td>\n",
       "      <td>1.000000</td>\n",
       "      <td>0.333457</td>\n",
       "    </tr>\n",
       "    <tr>\n",
       "      <th>1</th>\n",
       "      <td>State</td>\n",
       "      <td>1380.842285</td>\n",
       "      <td>0.426422</td>\n",
       "      <td>0.142194</td>\n",
       "    </tr>\n",
       "    <tr>\n",
       "      <th>2</th>\n",
       "      <td>RowID</td>\n",
       "      <td>954.863831</td>\n",
       "      <td>0.294875</td>\n",
       "      <td>0.098328</td>\n",
       "    </tr>\n",
       "    <tr>\n",
       "      <th>3</th>\n",
       "      <td>Annual_Income</td>\n",
       "      <td>765.047424</td>\n",
       "      <td>0.236257</td>\n",
       "      <td>0.078782</td>\n",
       "    </tr>\n",
       "    <tr>\n",
       "      <th>4</th>\n",
       "      <td>Term</td>\n",
       "      <td>614.148438</td>\n",
       "      <td>0.189657</td>\n",
       "      <td>0.063243</td>\n",
       "    </tr>\n",
       "    <tr>\n",
       "      <th>5</th>\n",
       "      <td>Debt_to_Income</td>\n",
       "      <td>599.893066</td>\n",
       "      <td>0.185255</td>\n",
       "      <td>0.061775</td>\n",
       "    </tr>\n",
       "    <tr>\n",
       "      <th>6</th>\n",
       "      <td>Loan_Purpose</td>\n",
       "      <td>537.137817</td>\n",
       "      <td>0.165875</td>\n",
       "      <td>0.055312</td>\n",
       "    </tr>\n",
       "    <tr>\n",
       "      <th>7</th>\n",
       "      <td>Revolving_Cr_Util</td>\n",
       "      <td>407.736725</td>\n",
       "      <td>0.125915</td>\n",
       "      <td>0.041987</td>\n",
       "    </tr>\n",
       "    <tr>\n",
       "      <th>8</th>\n",
       "      <td>Loan_Amount</td>\n",
       "      <td>344.781158</td>\n",
       "      <td>0.106473</td>\n",
       "      <td>0.035504</td>\n",
       "    </tr>\n",
       "    <tr>\n",
       "      <th>9</th>\n",
       "      <td>Total_Accounts</td>\n",
       "      <td>228.186920</td>\n",
       "      <td>0.070467</td>\n",
       "      <td>0.023498</td>\n",
       "    </tr>\n",
       "    <tr>\n",
       "      <th>10</th>\n",
       "      <td>Employment_Years</td>\n",
       "      <td>198.352722</td>\n",
       "      <td>0.061254</td>\n",
       "      <td>0.020426</td>\n",
       "    </tr>\n",
       "    <tr>\n",
       "      <th>11</th>\n",
       "      <td>Longest_Credit_Length</td>\n",
       "      <td>158.876251</td>\n",
       "      <td>0.049063</td>\n",
       "      <td>0.016360</td>\n",
       "    </tr>\n",
       "    <tr>\n",
       "      <th>12</th>\n",
       "      <td>Home_Ownership</td>\n",
       "      <td>140.665573</td>\n",
       "      <td>0.043439</td>\n",
       "      <td>0.014485</td>\n",
       "    </tr>\n",
       "    <tr>\n",
       "      <th>13</th>\n",
       "      <td>Delinquent_2yr</td>\n",
       "      <td>71.675285</td>\n",
       "      <td>0.022134</td>\n",
       "      <td>0.007381</td>\n",
       "    </tr>\n",
       "    <tr>\n",
       "      <th>14</th>\n",
       "      <td>Verification_Status</td>\n",
       "      <td>70.584908</td>\n",
       "      <td>0.021798</td>\n",
       "      <td>0.007269</td>\n",
       "    </tr>\n",
       "  </tbody>\n",
       "</table>\n",
       "</div>"
      ],
      "text/plain": [
       "                 variable  relative_importance  scaled_importance  percentage\n",
       "0           Interest_Rate          3238.202881           1.000000    0.333457\n",
       "1                   State          1380.842285           0.426422    0.142194\n",
       "2                   RowID           954.863831           0.294875    0.098328\n",
       "3           Annual_Income           765.047424           0.236257    0.078782\n",
       "4                    Term           614.148438           0.189657    0.063243\n",
       "5          Debt_to_Income           599.893066           0.185255    0.061775\n",
       "6            Loan_Purpose           537.137817           0.165875    0.055312\n",
       "7       Revolving_Cr_Util           407.736725           0.125915    0.041987\n",
       "8             Loan_Amount           344.781158           0.106473    0.035504\n",
       "9          Total_Accounts           228.186920           0.070467    0.023498\n",
       "10       Employment_Years           198.352722           0.061254    0.020426\n",
       "11  Longest_Credit_Length           158.876251           0.049063    0.016360\n",
       "12         Home_Ownership           140.665573           0.043439    0.014485\n",
       "13         Delinquent_2yr            71.675285           0.022134    0.007381\n",
       "14    Verification_Status            70.584908           0.021798    0.007269"
      ]
     },
     "execution_count": 23,
     "metadata": {},
     "output_type": "execute_result"
    }
   ],
   "source": [
    "importances = h2o.get_model(leaders[2, 0]).varimp(use_pandas=True)\n",
    "importances"
   ]
  },
  {
   "cell_type": "code",
   "execution_count": 24,
   "metadata": {},
   "outputs": [
    {
     "data": {
      "text/html": [
       "<iframe id=\"igraph\" scrolling=\"no\" style=\"border:none;\" seamless=\"seamless\" src=\"https://plot.ly/~bretto777/3033.embed\" height=\"525px\" width=\"100%\"></iframe>"
      ],
      "text/plain": [
       "<plotly.tools.PlotlyDisplay object>"
      ]
     },
     "execution_count": 24,
     "metadata": {},
     "output_type": "execute_result"
    }
   ],
   "source": [
    "importances = h2o.get_model(leaders[2, 0]).varimp(use_pandas=True)\n",
    "importances = importances.loc[:,['variable','relative_importance']].groupby('variable').mean()\n",
    "importances.sort_values(by=\"relative_importance\", ascending=False).iplot(kind='bar', colors='#5AC4F2', theme='white')"
   ]
  },
  {
   "cell_type": "markdown",
   "metadata": {},
   "source": [
    "## Leaderboard ROC Curves"
   ]
  },
  {
   "cell_type": "code",
   "execution_count": 27,
   "metadata": {},
   "outputs": [
    {
     "data": {
      "text/html": [
       "<iframe id=\"igraph\" scrolling=\"no\" style=\"border:none;\" seamless=\"seamless\" src=\"https://plot.ly/~bretto777/3035.embed\" height=\"575px\" width=\"725px\"></iframe>"
      ],
      "text/plain": [
       "<plotly.tools.PlotlyDisplay object>"
      ]
     },
     "execution_count": 27,
     "metadata": {},
     "output_type": "execute_result"
    }
   ],
   "source": [
    "Model0 = np.array(h2o.get_model(leaders[0, 0]).roc(valid=True))\n",
    "Model1 = np.array(h2o.get_model(leaders[1, 0]).roc(valid=True))\n",
    "Model2 = np.array(h2o.get_model(leaders[2, 0]).roc(valid=True))\n",
    "Model3 = np.array(h2o.get_model(leaders[3, 0]).roc(valid=True))\n",
    "Model4 = np.array(h2o.get_model(leaders[4, 0]).roc(valid=True))\n",
    "Model5 = np.array(h2o.get_model(leaders[5, 0]).roc(valid=True))\n",
    "Model6 = np.array(h2o.get_model(leaders[6, 0]).roc(valid=True))\n",
    "Model7 = np.array(h2o.get_model(leaders[7, 0]).roc(valid=True))\n",
    "Model8 = np.array(h2o.get_model(leaders[8, 0]).roc(valid=True))\n",
    "Model9 = np.array(h2o.get_model(leaders[9, 0]).roc(valid=True))\n",
    "\n",
    "\n",
    "layout = go.Layout(autosize=False, width=725, height=575,  xaxis=dict(title='False Positive Rate', titlefont=dict(family='Arial, sans-serif', size=15, color='grey')), \n",
    "                                                           yaxis=dict(title='True Positive Rate', titlefont=dict(family='Arial, sans-serif', size=15, color='grey')))\n",
    "\n",
    "Model0Trace = go.Scatter(x = Model0[0], y = Model0[1], mode = 'lines', name = 'Leader', line = dict(color = ('rgb(26, 58, 126)'), width = 3))\n",
    "Model1Trace = go.Scatter(x = Model1[0], y = Model1[1], mode = 'lines', name = 'Model 1', line = dict(color = ('rgb(135, 160, 216)'), width = 3))\n",
    "Model2Trace = go.Scatter(x = Model2[0], y = Model2[1], mode = 'lines', name = 'Model 2', line = dict(color = ('rgb(156, 190, 241)'), width = 1))\n",
    "Model3Trace = go.Scatter(x = Model3[0], y = Model3[1], mode = 'lines', name = 'Model 3', line = dict(color = ('rgb(156, 190, 241)'), width = 1))\n",
    "Model4Trace = go.Scatter(x = Model4[0], y = Model4[1], mode = 'lines', name = 'Model 4', line = dict(color = ('rgb(156, 190, 241)'), width = 1))\n",
    "Model5Trace = go.Scatter(x = Model5[0], y = Model5[1], mode = 'lines', name = 'Model 5', line = dict(color = ('rgb(156, 190, 241)'), width = 1))\n",
    "Model6Trace = go.Scatter(x = Model6[0], y = Model6[1], mode = 'lines', name = 'Model 6', line = dict(color = ('rgb(156, 190, 241)'), width = 1))\n",
    "Model7Trace = go.Scatter(x = Model7[0], y = Model7[1], mode = 'lines', name = 'Model 7', line = dict(color = ('rgb(156, 190, 241)'), width = 1))\n",
    "Model8Trace = go.Scatter(x = Model8[0], y = Model8[1], mode = 'lines', name = 'Model 8', line = dict(color = ('rgb(156, 190, 241)'), width = 1))\n",
    "Model9Trace = go.Scatter(x = Model9[0], y = Model9[1], mode = 'lines', name = 'Model 9', line = dict(color = ('rgb(156, 190, 241)'), width = 1))\n",
    "\n",
    "\n",
    "traceChanceLine = go.Scatter(x = [0,1], y = [0,1], mode = 'lines+markers', name = 'chance', line = dict(color = ('rgb(136, 140, 150)'), width = 4, dash = 'dash'))\n",
    "\n",
    "fig = go.Figure(data=[Model0Trace,Model1Trace,Model2Trace,Model3Trace,Model4Trace,Model5Trace,Model7Trace,Model8Trace,Model9Trace,traceChanceLine], layout=layout)\n",
    "\n",
    "\n",
    "py.iplot(fig)"
   ]
  },
  {
   "cell_type": "markdown",
   "metadata": {},
   "source": [
    "## Confusion Matrix"
   ]
  },
  {
   "cell_type": "code",
   "execution_count": 30,
   "metadata": {},
   "outputs": [
    {
     "data": {
      "text/html": [
       "<iframe id=\"igraph\" scrolling=\"no\" style=\"border:none;\" seamless=\"seamless\" src=\"https://plot.ly/~bretto777/3039.embed\" height=\"300px\" width=\"800px\"></iframe>"
      ],
      "text/plain": [
       "<plotly.tools.PlotlyDisplay object>"
      ]
     },
     "execution_count": 30,
     "metadata": {},
     "output_type": "execute_result"
    }
   ],
   "source": [
    "cm = autoModel.leader.confusion_matrix(xval=True)\n",
    "cm = cm.table.as_data_frame()\n",
    "cm\n",
    "confusionMatrix = ff.create_table(cm)\n",
    "confusionMatrix.layout.height=300\n",
    "confusionMatrix.layout.width=800\n",
    "confusionMatrix.layout.font.size=17\n",
    "py.iplot(confusionMatrix)"
   ]
  },
  {
   "cell_type": "markdown",
   "metadata": {
    "collapsed": true
   },
   "source": [
    "## Business Impact Matrix\n",
    "\n",
    "Weighting Predictions With a Dollar Value\n",
    "- Correctly predicting GOOD: +\\$500\n",
    "- Correctly predicting BAD: +\\$800\n",
    "- Incorrectly predicting GOOD: -\\$1000\n",
    "- Incorrectly predicting BAD: -\\$100"
   ]
  },
  {
   "cell_type": "code",
   "execution_count": 31,
   "metadata": {},
   "outputs": [
    {
     "data": {
      "text/html": [
       "<iframe id=\"igraph\" scrolling=\"no\" style=\"border:none;\" seamless=\"seamless\" src=\"https://plot.ly/~bretto777/3041.embed\" height=\"300px\" width=\"800px\"></iframe>"
      ],
      "text/plain": [
       "<plotly.tools.PlotlyDisplay object>"
      ]
     },
     "execution_count": 31,
     "metadata": {},
     "output_type": "execute_result"
    }
   ],
   "source": [
    "CorrectPredictBad = cm.loc[0,'BAD']\n",
    "CorrectPredictBadImpact = 500\n",
    "cm1 = CorrectPredictBad*CorrectPredictBadImpact\n",
    "\n",
    "IncorrectPredictBad = cm.loc[1,'BAD']\n",
    "IncorrectPredictBadImpact = -100\n",
    "cm2 = IncorrectPredictBad*IncorrectPredictBadImpact\n",
    "\n",
    "IncorrectPredictGood = cm.loc[0,'GOOD']\n",
    "IncorrectPredictGoodImpact = -1000\n",
    "cm3 = IncorrectPredictGood*IncorrectPredictGoodImpact\n",
    "\n",
    "CorrectPredictGood = cm.loc[0,'GOOD']\n",
    "CorrectPredictGoodImpact = 800\n",
    "cm4 = CorrectPredictGood*CorrectPredictGoodImpact\n",
    "\n",
    "\n",
    "data_matrix = [['Business Impact', '($) Predicted BAD', '($) Predicted GOOD', '($) Total'],\n",
    "               ['($) Actual BAD', cm1, cm3, '' ],\n",
    "               ['($) Actual GOOD', cm2, cm4, ''],\n",
    "               ['($) Total', cm1+cm2, cm3+cm4, cm1+cm2+cm3+cm4]]\n",
    "\n",
    "impactMatrix = ff.create_table(data_matrix, height_constant=20, hoverinfo='weight')\n",
    "impactMatrix.layout.height=300\n",
    "impactMatrix.layout.width=800\n",
    "impactMatrix.layout.font.size=17\n",
    "py.iplot(impactMatrix)"
   ]
  },
  {
   "cell_type": "code",
   "execution_count": null,
   "metadata": {},
   "outputs": [],
   "source": [
    "h2o.save_model(model=autoModel.leader)"
   ]
  },
  {
   "cell_type": "code",
   "execution_count": null,
   "metadata": {},
   "outputs": [],
   "source": [
    "def approve_loan(Loan_Amount,Term,Interest_Rate,Employment_Years,Home_Ownership,Annual_Income,Verification_Status,Loan_Purpose,State,\n",
    "                 Debt_to_Income,Delinquent_2yr,Revolving_Cr_Util,Total_Accounts,Longest_Credit_Length):\n",
    "    # connect to the model scoring service\n",
    "    h2o.connect()\n",
    "\n",
    "    # open the downloaded model\n",
    "    ChurnPredictor = h2o.load_model(path='DRF_model_1496459915419_4') \n",
    "\n",
    "    # define a feature vector to evaluate with the model\n",
    "    newData = pd.DataFrame({'Loan_Amount' : Loan_Amount,\n",
    "                            'Term' : Term,\n",
    "                            'Interest_Rate' : Interest_Rate,\n",
    "                            'Employment_Years' : Employment_Years,\n",
    "                            'Home_Ownership' : Home_Ownership,\n",
    "                            'Annual_Income' : Annual_Income,\n",
    "                            'Verification_Status' : Verification_Status,\n",
    "                            'Loan_Purpose' : Loan_Purpose,\n",
    "                            'State' : State,\n",
    "                            'Debt_to_Income' : Debt_to_Income,\n",
    "                            'Delinquent_2yr' : Delinquent_2yr,\n",
    "                            'Revolving_Cr_Util' : Revolving_Cr_Util,\n",
    "                            'Total_Accounts' : Total_Accounts,\n",
    "                            'Longest_Credit_Length' : Longest_Credit_Length}, index=[0])\n",
    "    \n",
    "    # evaluate the feature vector using the model\n",
    "    predictions = ChurnPredictor.predict(h2o.H2OFrame(newData))\n",
    "    predictionsOut = h2o.as_list(predictions, use_pandas=False)\n",
    "    prediction = predictionsOut[1][0]\n",
    "    probabilityBad = predictionsOut[1][1]\n",
    "    probabilityGood = predictionsOut[1][2]\n",
    "    return \"Prediction: \" + str(prediction) + \" |Probability of Bad Loan: \" + str(probabilityBad) + \" |Probability of Good Loan: \" + str(probabilityGood)"
   ]
  },
  {
   "cell_type": "code",
   "execution_count": null,
   "metadata": {},
   "outputs": [],
   "source": [
    "Loan_Amount = 5000\n",
    "Term = \"60 months\"\n",
    "Interest_Rate=13\n",
    "Employment_Years=5\n",
    "Home_Ownership=\"RENT\"\n",
    "Annual_Income=75000\n",
    "Verification_Status=\"VERIFIED - income\"\n",
    "Loan_Purpose=\"credit_card\"\n",
    "State=\"CA\"\n",
    "Debt_to_Income=\"16.12\"\n",
    "Delinquent_2yr=\"0\"\n",
    "Revolving_Cr_Util=37\n",
    "Total_Accounts=6\n",
    "Longest_Credit_Length=97\n",
    "approve_loan(Loan_Amount,Term,Interest_Rate,Employment_Years,Home_Ownership,Annual_Income,Verification_Status,Loan_Purpose,State,Debt_to_Income,Delinquent_2yr,Revolving_Cr_Util,Total_Accounts,Longest_Credit_Length)"
   ]
  }
 ],
 "metadata": {
  "kernelspec": {
   "display_name": "Python 2",
   "language": "python",
   "name": "python2"
  },
  "language_info": {
   "codemirror_mode": {
    "name": "ipython",
    "version": 2
   },
   "file_extension": ".py",
   "mimetype": "text/x-python",
   "name": "python",
   "nbconvert_exporter": "python",
   "pygments_lexer": "ipython2",
   "version": "2.7.9"
  }
 },
 "nbformat": 4,
 "nbformat_minor": 2
}

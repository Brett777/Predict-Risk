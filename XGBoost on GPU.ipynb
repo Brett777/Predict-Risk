{
 "cells": [
  {
   "cell_type": "code",
   "execution_count": 11,
   "metadata": {
    "collapsed": true
   },
   "outputs": [],
   "source": [
    "import h2o\n",
    "from h2o.estimators.xgboost import H2OXGBoostEstimator"
   ]
  },
  {
   "cell_type": "code",
   "execution_count": 29,
   "metadata": {},
   "outputs": [
    {
     "name": "stdout",
     "output_type": "stream",
     "text": [
      "Connecting to H2O server at http://104.196.40.190:54321... successful.\n"
     ]
    },
    {
     "data": {
      "text/html": [
       "<div style=\"overflow:auto\"><table style=\"width:50%\"><tr><td>H2O cluster uptime:</td>\n",
       "<td>39 mins 22 secs</td></tr>\n",
       "<tr><td>H2O cluster version:</td>\n",
       "<td>3.13.0.313</td></tr>\n",
       "<tr><td>H2O cluster version age:</td>\n",
       "<td>1 day </td></tr>\n",
       "<tr><td>H2O cluster name:</td>\n",
       "<td>olmsteadbrett</td></tr>\n",
       "<tr><td>H2O cluster total nodes:</td>\n",
       "<td>1</td></tr>\n",
       "<tr><td>H2O cluster free memory:</td>\n",
       "<td>1.585 Gb</td></tr>\n",
       "<tr><td>H2O cluster total cores:</td>\n",
       "<td>2</td></tr>\n",
       "<tr><td>H2O cluster allowed cores:</td>\n",
       "<td>2</td></tr>\n",
       "<tr><td>H2O cluster status:</td>\n",
       "<td>locked, healthy</td></tr>\n",
       "<tr><td>H2O connection url:</td>\n",
       "<td>http://104.196.40.190:54321</td></tr>\n",
       "<tr><td>H2O connection proxy:</td>\n",
       "<td>None</td></tr>\n",
       "<tr><td>H2O internal security:</td>\n",
       "<td>False</td></tr>\n",
       "<tr><td>Python version:</td>\n",
       "<td>2.7.12 final</td></tr></table></div>"
      ],
      "text/plain": [
       "--------------------------  ---------------------------\n",
       "H2O cluster uptime:         39 mins 22 secs\n",
       "H2O cluster version:        3.13.0.313\n",
       "H2O cluster version age:    1 day\n",
       "H2O cluster name:           olmsteadbrett\n",
       "H2O cluster total nodes:    1\n",
       "H2O cluster free memory:    1.585 Gb\n",
       "H2O cluster total cores:    2\n",
       "H2O cluster allowed cores:  2\n",
       "H2O cluster status:         locked, healthy\n",
       "H2O connection url:         http://104.196.40.190:54321\n",
       "H2O connection proxy:\n",
       "H2O internal security:      False\n",
       "Python version:             2.7.12 final\n",
       "--------------------------  ---------------------------"
      ]
     },
     "metadata": {},
     "output_type": "display_data"
    },
    {
     "data": {
      "text/plain": [
       "<H2OConnection to http://104.196.40.190:54321, session _sid_a3d4>"
      ]
     },
     "execution_count": 29,
     "metadata": {},
     "output_type": "execute_result"
    }
   ],
   "source": [
    "h2o.connect(ip=\"104.196.40.190\")"
   ]
  },
  {
   "cell_type": "code",
   "execution_count": 12,
   "metadata": {},
   "outputs": [
    {
     "name": "stdout",
     "output_type": "stream",
     "text": [
      "Parse progress: |█████████████████████████████████████████████████████████| 100%\n"
     ]
    }
   ],
   "source": [
    "# Import some data from Amazon S3\n",
    "h2oDF = h2o.import_file(\"https://s3-us-west-1.amazonaws.com/dsclouddata/LendingClubData/LoansGoodBad.csv\")\n",
    "\n",
    "# Stratified Split into Train/Test\n",
    "stratsplit = h2oDF[\"Bad_Loan\"].stratified_split(test_frac=0.3, seed=12349453)\n",
    "train = h2oDF[stratsplit==\"train\"]\n",
    "test = h2oDF[stratsplit==\"test\"]\n"
   ]
  },
  {
   "cell_type": "code",
   "execution_count": 18,
   "metadata": {
    "collapsed": true
   },
   "outputs": [],
   "source": [
    "# Identify predictors and response\n",
    "x = train.columns\n",
    "y = \"Bad_Loan\"\n",
    "x.remove(y)\n",
    "\n",
    "# For binary classification, response should be a factor\n",
    "train[y] = train[y].asfactor()\n",
    "test[y] = test[y].asfactor()"
   ]
  },
  {
   "cell_type": "code",
   "execution_count": 19,
   "metadata": {},
   "outputs": [
    {
     "data": {
      "text/html": [
       "<table>\n",
       "<thead>\n",
       "<tr><th style=\"text-align: right;\">  RowID</th><th style=\"text-align: right;\">  Loan_Amount</th><th>Term     </th><th style=\"text-align: right;\">  Interest_Rate</th><th style=\"text-align: right;\">  Employment_Years</th><th>Home_Ownership  </th><th style=\"text-align: right;\">  Annual_Income</th><th>Verification_Status     </th><th>Loan_Purpose  </th><th>State  </th><th style=\"text-align: right;\">  Debt_to_Income</th><th style=\"text-align: right;\">  Delinquent_2yr</th><th style=\"text-align: right;\">  Revolving_Cr_Util</th><th style=\"text-align: right;\">  Total_Accounts</th><th>Bad_Loan  </th><th style=\"text-align: right;\">  Longest_Credit_Length</th></tr>\n",
       "</thead>\n",
       "<tbody>\n",
       "<tr><td style=\"text-align: right;\">      2</td><td style=\"text-align: right;\">         2500</td><td>60 months</td><td style=\"text-align: right;\">          15.27</td><td style=\"text-align: right;\">               0.5</td><td>RENT            </td><td style=\"text-align: right;\">          30000</td><td>VERIFIED - income source</td><td>car           </td><td>GA     </td><td style=\"text-align: right;\">            1   </td><td style=\"text-align: right;\">               0</td><td style=\"text-align: right;\">                9.4</td><td style=\"text-align: right;\">               4</td><td>BAD       </td><td style=\"text-align: right;\">                     12</td></tr>\n",
       "<tr><td style=\"text-align: right;\">      3</td><td style=\"text-align: right;\">         2400</td><td>36 months</td><td style=\"text-align: right;\">          15.96</td><td style=\"text-align: right;\">              10  </td><td>RENT            </td><td style=\"text-align: right;\">          12252</td><td>not verified            </td><td>small_business</td><td>IL     </td><td style=\"text-align: right;\">            8.72</td><td style=\"text-align: right;\">               0</td><td style=\"text-align: right;\">               98.5</td><td style=\"text-align: right;\">              10</td><td>GOOD      </td><td style=\"text-align: right;\">                     10</td></tr>\n",
       "<tr><td style=\"text-align: right;\">      4</td><td style=\"text-align: right;\">        10000</td><td>36 months</td><td style=\"text-align: right;\">          13.49</td><td style=\"text-align: right;\">              10  </td><td>RENT            </td><td style=\"text-align: right;\">          49200</td><td>VERIFIED - income source</td><td>other         </td><td>CA     </td><td style=\"text-align: right;\">           20   </td><td style=\"text-align: right;\">               0</td><td style=\"text-align: right;\">               21  </td><td style=\"text-align: right;\">              37</td><td>GOOD      </td><td style=\"text-align: right;\">                     15</td></tr>\n",
       "<tr><td style=\"text-align: right;\">      5</td><td style=\"text-align: right;\">         5000</td><td>36 months</td><td style=\"text-align: right;\">           7.9 </td><td style=\"text-align: right;\">               3  </td><td>RENT            </td><td style=\"text-align: right;\">          36000</td><td>VERIFIED - income source</td><td>wedding       </td><td>AZ     </td><td style=\"text-align: right;\">           11.2 </td><td style=\"text-align: right;\">               0</td><td style=\"text-align: right;\">               28.3</td><td style=\"text-align: right;\">              12</td><td>GOOD      </td><td style=\"text-align: right;\">                      7</td></tr>\n",
       "<tr><td style=\"text-align: right;\">      6</td><td style=\"text-align: right;\">         3000</td><td>36 months</td><td style=\"text-align: right;\">          18.64</td><td style=\"text-align: right;\">               9  </td><td>RENT            </td><td style=\"text-align: right;\">          48000</td><td>VERIFIED - income source</td><td>car           </td><td>CA     </td><td style=\"text-align: right;\">            5.35</td><td style=\"text-align: right;\">               0</td><td style=\"text-align: right;\">               87.5</td><td style=\"text-align: right;\">               4</td><td>GOOD      </td><td style=\"text-align: right;\">                      4</td></tr>\n",
       "</tbody>\n",
       "</table>"
      ]
     },
     "metadata": {},
     "output_type": "display_data"
    },
    {
     "data": {
      "text/plain": []
     },
     "execution_count": 19,
     "metadata": {},
     "output_type": "execute_result"
    }
   ],
   "source": [
    "train.head(5)"
   ]
  },
  {
   "cell_type": "code",
   "execution_count": 33,
   "metadata": {},
   "outputs": [
    {
     "name": "stdout",
     "output_type": "stream",
     "text": [
      "xgboost Model Build progress: |███████████████████████████████████████████| 100%\n",
      "CPU times: user 108 ms, sys: 20 ms, total: 128 ms\n",
      "Wall time: 7.01 s\n"
     ]
    }
   ],
   "source": [
    "%%time\n",
    "XGB = H2OXGBoostEstimator(backend=\"gpu\", gpu_id=0)\n",
    "XGB.train(x=x, y=y, training_frame=train, validation_frame=test)\n"
   ]
  },
  {
   "cell_type": "code",
   "execution_count": 32,
   "metadata": {},
   "outputs": [
    {
     "name": "stdout",
     "output_type": "stream",
     "text": [
      "xgboost Model Build progress: |███████████████████████████████████████████| 100%\n",
      "CPU times: user 164 ms, sys: 40 ms, total: 204 ms\n",
      "Wall time: 13.7 s\n"
     ]
    }
   ],
   "source": [
    "%%time\n",
    "XGB = H2OXGBoostEstimator(backend=\"cpu\")\n",
    "XGB.train(x=x, y=y, training_frame=train, validation_frame=test)"
   ]
  }
 ],
 "metadata": {
  "kernelspec": {
   "display_name": "Python 2",
   "language": "python",
   "name": "python2"
  },
  "language_info": {
   "codemirror_mode": {
    "name": "ipython",
    "version": 2
   },
   "file_extension": ".py",
   "mimetype": "text/x-python",
   "name": "python",
   "nbconvert_exporter": "python",
   "pygments_lexer": "ipython2",
   "version": "2.7.12"
  }
 },
 "nbformat": 4,
 "nbformat_minor": 2
}

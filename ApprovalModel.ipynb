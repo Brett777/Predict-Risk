{
 "cells": [
  {
   "cell_type": "code",
   "execution_count": null,
   "metadata": {
    "collapsed": true
   },
   "outputs": [],
   "source": [
    "import h2o\n",
    "import pandas as pd\n",
    "\n",
    "# initialize the model scoring server\n",
    "h2o.init(nthreads=1,max_mem_size=1, start_h2o=True, strict_version_check = False)\n",
    "\n",
    "def approve_loan(Loan_Amount,Term,Interest_Rate,Employment_Years,Home_Ownership,Annual_Income,Verification_Status,Loan_Purpose,State,\n",
    "                 Debt_to_Income,Delinquent_2yr,Revolving_Cr_Util,Total_Accounts,Longest_Credit_Length):\n",
    "    # connect to the model scoring service\n",
    "    h2o.connect()\n",
    "\n",
    "    # open the downloaded model\n",
    "    ChurnPredictor = h2o.load_model(path='DRF_model_1496459915419_4') \n",
    "\n",
    "    # define a feature vector to evaluate with the model\n",
    "    newData = pd.DataFrame({'Loan_Amount' : Loan_Amount,\n",
    "                            'Term' : Term,\n",
    "                            'Interest_Rate' : Interest_Rate,\n",
    "                            'Employment_Years' : Employment_Years,\n",
    "                            'Home_Ownership' : Home_Ownership,\n",
    "                            'Annual_Income' : Annual_Income,\n",
    "                            'Verification_Status' : Verification_Status,\n",
    "                            'Loan_Purpose' : Loan_Purpose,\n",
    "                            'State' : State,\n",
    "                            'Debt_to_Income' : Debt_to_Income,\n",
    "                            'Delinquent_2yr' : Delinquent_2yr,\n",
    "                            'Revolving_Cr_Util' : Revolving_Cr_Util,\n",
    "                            'Total_Accounts' : Total_Accounts,\n",
    "                            'Longest_Credit_Length' : Longest_Credit_Length}, index=[0])\n",
    "    \n",
    "    # evaluate the feature vector using the model\n",
    "    predictions = ChurnPredictor.predict(h2o.H2OFrame(newData))\n",
    "    predictionsOut = h2o.as_list(predictions, use_pandas=False)\n",
    "    prediction = predictionsOut[1][0]\n",
    "    probabilityBad = predictionsOut[1][1]\n",
    "    probabilityGood = predictionsOut[1][2]\n",
    "    return \"Prediction: \" + str(prediction) + \" |Probability of Bad Loan: \" + str(probabilityBad) + \" |Probability of Good Loan: \" + str(probabilityGood)"
   ]
  }
 ],
 "metadata": {
  "kernelspec": {
   "display_name": "Python 2",
   "language": "python",
   "name": "python2"
  },
  "language_info": {
   "codemirror_mode": {
    "name": "ipython",
    "version": 2
   },
   "file_extension": ".py",
   "mimetype": "text/x-python",
   "name": "python",
   "nbconvert_exporter": "python",
   "pygments_lexer": "ipython2",
   "version": "2.7.12"
  }
 },
 "nbformat": 4,
 "nbformat_minor": 2
}
